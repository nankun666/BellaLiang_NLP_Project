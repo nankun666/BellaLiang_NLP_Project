{
 "cells": [
  {
   "cell_type": "markdown",
   "id": "73bc9548",
   "metadata": {},
   "source": [
    "# Analysis of IMDB Data"
   ]
  },
  {
   "cell_type": "markdown",
   "id": "7679c0c0",
   "metadata": {},
   "source": [
    "We will analyze a subset of IMDB's actors, genres, movie actors, and movie ratings data. This dataset comes to us from Kaggle (https://www.kaggle.com/datasets/ashirwadsangwan/imdb-dataset) although we have taken steps to pull this data into a public S3 bucket: \n",
    "\n",
    "* s3://cis9760-lecture9-movieanalysis/name.basics.new.tsv ---> Name Basics\n",
    "* s3://cis9760-lecture9-movieanalysis/title.basic.new.tsv ---> Title Basics\n",
    "* s3://cis9760-lecture9-movieanalysis/title.principles.new.tsv ---> Title Principles\n",
    "* s3://cis9760-lecture9-movieanalysis/title.ratings.new.tsv ---> Title Ratings"
   ]
  },
  {
   "cell_type": "markdown",
   "id": "c1dde3fb",
   "metadata": {},
   "source": [
    "# Content\n",
    "\n",
    "**<br />name.basics.tsv.gz – Contains the following information for names:**\n",
    "<br />nconst (string) - alphanumeric unique identifier of the name/person.\n",
    "<br />primaryName (string)– name by which the person is most often credited.\n",
    "<br />birthYear – in YYYY format.\n",
    "<br />deathYear – in YYYY format if applicable, else .\n",
    "<br />primaryProfession (array of strings)– the top-3 professions of the person.\n",
    "<br />knownForTitles (array of tconsts) – titles the person is known for.\n",
    "<br/><br/>\n",
    "**<br />title.basics.tsv.gz - Contains the following information for titles:**\n",
    "<br />tconst (string) - alphanumeric unique identifier of the title.\n",
    "<br />titleType (string) – the type/format of the title (e.g. movie, short, tvseries, tvepisode, video, etc).\n",
    "<br />primaryTitle (string) – the more popular title / the title used by the filmmakers on promotional materials at the point of release.\n",
    "<br />originalTitle (string) - original title, in the original language.\n",
    "<br />isAdult (boolean) - 0: non-adult title; 1: adult title.\n",
    "<br />startYear (YYYY) – represents the release year of a title. In the case of TV Series, it is the series start year.\n",
    "<br />endYear (YYYY) – TV Series end year. for all other title types.\n",
    "<br />runtimeMinutes – primary runtime of the title, in minutes.\n",
    "<br />genres (string array) – includes up to three genres associated with the title.\n",
    "<br/><br/>\n",
    "**<br />title.principals.tsv – Contains the principal cast/crew for titles:**\n",
    "<br />tconst (string) - alphanumeric unique identifier of the title.\n",
    "<br />ordering (integer) – a number to uniquely identify rows for a given titleId.\n",
    "<br />nconst (string) - alphanumeric unique identifier of the name/person.\n",
    "<br />category (string) - the category of job that person was in.\n",
    "<br />job (string) - the specific job title if applicable, else.\n",
    "<br />characters (string) - the name of the character played if applicable, else.\n",
    "<br/><br/>\n",
    "**<br />title.ratings.tsv.gz – Contains the IMDb rating and votes information for titles:**\n",
    "<br />tconst (string) - alphanumeric unique identifier of the title.\n",
    "<br />averageRating – weighted average of all the individual user ratings.\n",
    "<br />numVotes - number of votes the title has received."
   ]
  },
  {
   "cell_type": "markdown",
   "id": "08416e6e",
   "metadata": {},
   "source": [
    "# PART 1 - Installation and Initial Setup"
   ]
  },
  {
   "cell_type": "markdown",
   "id": "04b07b9f",
   "metadata": {},
   "source": [
    "Begin by installing the necessary libraries that you may need to conduct your analysis. At the very least, you must install pandas and matplotlib"
   ]
  },
  {
   "cell_type": "code",
   "execution_count": 3,
   "id": "436b2e4c",
   "metadata": {
    "execution": {
     "iopub.execute_input": "2024-12-04T02:55:03.484815Z",
     "iopub.status.busy": "2024-12-04T02:55:03.484483Z",
     "iopub.status.idle": "2024-12-04T02:55:03.515790Z",
     "shell.execute_reply": "2024-12-04T02:55:03.515084Z",
     "shell.execute_reply.started": "2024-12-04T02:55:03.484788Z"
    },
    "tags": []
   },
   "outputs": [
    {
     "data": {
      "text/html": [
       "Current session configs: <tt>{'proxyUser': 'user_EMR-User', 'conf': {'spark.pyspark.python': 'python3', 'spark.pyspark.virtualenv.enabled': 'true', 'spark.pyspark.virtualenv.type': 'native', 'spark.pyspark.virtualenv.bin.path': '/usr/bin/virtualenv'}, 'kind': 'pyspark'}</tt><br>"
      ],
      "text/plain": [
       "<IPython.core.display.HTML object>"
      ]
     },
     "metadata": {},
     "output_type": "display_data"
    },
    {
     "data": {
      "text/html": [
       "<table>\n<tbody><tr><th>ID</th><th>YARN Application ID</th><th>Kind</th><th>State</th><th>Spark UI</th><th>Driver log</th><th>User</th><th>Current session?</th></tr><tr><td>2</td><td>application_1733279512595_0003</td><td>pyspark</td><td>idle</td><td><a target=\"_blank\" href=\"http://ip-172-31-34-171.us-east-2.compute.internal:20888/proxy/application_1733279512595_0003/\" class=\"emr-proxy-link j-2WY1MAJX5XPKT application_1733279512595_0003\" emr-resource=\"j-2WY1MAJX5XPKT\n\" application-id=\"application_1733279512595_0003\">Link</a></td><td><a target=\"_blank\" href=\"http://ip-172-31-45-31.us-east-2.compute.internal:8042/node/containerlogs/container_1733279512595_0003_01_000001/livy\">Link</a></td><td>None</td><td>✔</td></tr></tbody></table>"
      ],
      "text/plain": [
       "<IPython.core.display.HTML object>"
      ]
     },
     "metadata": {},
     "output_type": "display_data"
    }
   ],
   "source": [
    "%%info"
   ]
  },
  {
   "cell_type": "code",
   "execution_count": 27,
   "id": "0c8b0667",
   "metadata": {
    "execution": {
     "iopub.execute_input": "2024-11-06T20:29:51.600162Z",
     "iopub.status.busy": "2024-11-06T20:29:51.599856Z",
     "iopub.status.idle": "2024-11-06T20:29:51.641525Z",
     "shell.execute_reply": "2024-11-06T20:29:51.640860Z",
     "shell.execute_reply.started": "2024-11-06T20:29:51.600137Z"
    },
    "tags": []
   },
   "outputs": [
    {
     "data": {
      "text/html": [
       "Current session configs: <tt>{'proxyUser': 'user_EMR-User', 'conf': {'spark.pyspark.python': 'python3', 'spark.pyspark.virtualenv.enabled': 'true', 'spark.pyspark.virtualenv.type': 'native', 'spark.pyspark.virtualenv.bin.path': '/usr/bin/virtualenv'}, 'kind': 'pyspark'}</tt><br>"
      ],
      "text/plain": [
       "<IPython.core.display.HTML object>"
      ]
     },
     "metadata": {},
     "output_type": "display_data"
    },
    {
     "data": {
      "text/html": [
       "<table>\n",
       "<tbody><tr><th>ID</th><th>YARN Application ID</th><th>Kind</th><th>State</th><th>Spark UI</th><th>Driver log</th><th>User</th><th>Current session?</th></tr><tr><td>0</td><td>application_1730922819525_0001</td><td>pyspark</td><td>idle</td><td><a target=\"_blank\" href=\"http://ip-172-31-28-2.us-east-2.compute.internal:20888/proxy/application_1730922819525_0001/\" class=\"emr-proxy-link j-3PLIGA55PTBTQ application_1730922819525_0001\" emr-resource=\"j-3PLIGA55PTBTQ\n",
       "\" application-id=\"application_1730922819525_0001\">Link</a></td><td><a target=\"_blank\" href=\"http://ip-172-31-21-157.us-east-2.compute.internal:8042/node/containerlogs/container_1730922819525_0001_01_000001/livy\">Link</a></td><td>None</td><td></td></tr><tr><td>1</td><td>application_1730922819525_0002</td><td>pyspark</td><td>idle</td><td><a target=\"_blank\" href=\"http://ip-172-31-28-2.us-east-2.compute.internal:20888/proxy/application_1730922819525_0002/\" class=\"emr-proxy-link j-3PLIGA55PTBTQ application_1730922819525_0002\" emr-resource=\"j-3PLIGA55PTBTQ\n",
       "\" application-id=\"application_1730922819525_0002\">Link</a></td><td><a target=\"_blank\" href=\"http://ip-172-31-21-157.us-east-2.compute.internal:8042/node/containerlogs/container_1730922819525_0002_01_000002/livy\">Link</a></td><td>None</td><td>✔</td></tr></tbody></table>"
      ],
      "text/plain": [
       "<IPython.core.display.HTML object>"
      ]
     },
     "metadata": {},
     "output_type": "display_data"
    }
   ],
   "source": []
  },
  {
   "cell_type": "markdown",
   "id": "1fc39c6b",
   "metadata": {},
   "source": [
    "Let's install the necessary packages here"
   ]
  },
  {
   "cell_type": "code",
   "execution_count": 4,
   "id": "feacaecf",
   "metadata": {
    "execution": {
     "iopub.execute_input": "2024-12-04T02:55:09.835229Z",
     "iopub.status.busy": "2024-12-04T02:55:09.834907Z",
     "iopub.status.idle": "2024-12-04T02:55:31.204637Z",
     "shell.execute_reply": "2024-12-04T02:55:31.203814Z",
     "shell.execute_reply.started": "2024-12-04T02:55:09.835204Z"
    },
    "tags": []
   },
   "outputs": [
    {
     "data": {
      "application/vnd.jupyter.widget-view+json": {
       "model_id": "8aa41beea5ac4adbaadfb6547f3baf3f",
       "version_major": 2,
       "version_minor": 0
      },
      "text/plain": [
       "VBox()"
      ]
     },
     "metadata": {},
     "output_type": "display_data"
    },
    {
     "data": {
      "application/vnd.jupyter.widget-view+json": {
       "model_id": "",
       "version_major": 2,
       "version_minor": 0
      },
      "text/plain": [
       "FloatProgress(value=0.0, bar_style='info', description='Progress:', layout=Layout(height='25px', width='50%'),…"
      ]
     },
     "metadata": {},
     "output_type": "display_data"
    },
    {
     "name": "stdout",
     "output_type": "stream",
     "text": [
      "Collecting pandas==1.0.5\n",
      "  Downloading pandas-1.0.5-cp37-cp37m-manylinux1_x86_64.whl (10.1 MB)\n",
      "Collecting python-dateutil>=2.6.1\n",
      "  Downloading python_dateutil-2.9.0.post0-py2.py3-none-any.whl (229 kB)\n",
      "Requirement already satisfied: pytz>=2017.2 in /usr/local/lib/python3.7/site-packages (from pandas==1.0.5) (2023.3)\n",
      "Requirement already satisfied: numpy>=1.13.3 in /usr/local/lib64/python3.7/site-packages (from pandas==1.0.5) (1.20.0)\n",
      "Requirement already satisfied: six>=1.5 in /usr/local/lib/python3.7/site-packages (from python-dateutil>=2.6.1->pandas==1.0.5) (1.13.0)\n",
      "Installing collected packages: python-dateutil, pandas\n",
      "Successfully installed pandas-1.0.5 python-dateutil-2.9.0.post0\n",
      "\n",
      "Collecting matplotlib==3.2.1\n",
      "  Downloading matplotlib-3.2.1-cp37-cp37m-manylinux1_x86_64.whl (12.4 MB)\n",
      "Collecting cycler>=0.10\n",
      "  Downloading cycler-0.11.0-py3-none-any.whl (6.4 kB)\n",
      "Collecting pyparsing!=2.0.4,!=2.1.2,!=2.1.6,>=2.0.1\n",
      "  Downloading pyparsing-3.1.4-py3-none-any.whl (104 kB)\n",
      "Requirement already satisfied: numpy>=1.11 in /usr/local/lib64/python3.7/site-packages (from matplotlib==3.2.1) (1.20.0)\n",
      "Requirement already satisfied: python-dateutil>=2.1 in ./tmp/spark-85005380-b8f9-4491-81dd-f675da993490/lib/python3.7/site-packages (from matplotlib==3.2.1) (2.9.0.post0)\n",
      "Collecting kiwisolver>=1.0.1\n",
      "  Downloading kiwisolver-1.4.5-cp37-cp37m-manylinux_2_5_x86_64.manylinux1_x86_64.whl (1.1 MB)\n",
      "Requirement already satisfied: six>=1.5 in /usr/local/lib/python3.7/site-packages (from python-dateutil>=2.1->matplotlib==3.2.1) (1.13.0)\n",
      "Collecting typing-extensions; python_version < \"3.8\"\n",
      "  Downloading typing_extensions-4.7.1-py3-none-any.whl (33 kB)\n",
      "Installing collected packages: cycler, pyparsing, typing-extensions, kiwisolver, matplotlib\n",
      "Successfully installed cycler-0.11.0 kiwisolver-1.4.5 matplotlib-3.2.1 pyparsing-3.1.4 typing-extensions-4.7.1\n",
      "\n",
      "WARNING: The directory '/home/.cache/pip' or its parent directory is not owned or is not writable by the current user. The cache has been disabled. Check the permissions and owner of that directory. If executing pip with sudo, you may want sudo's -H flag.\n",
      "\n",
      "WARNING: The directory '/home/.cache/pip' or its parent directory is not owned or is not writable by the current user. The cache has been disabled. Check the permissions and owner of that directory. If executing pip with sudo, you may want sudo's -H flag."
     ]
    }
   ],
   "source": [
    "sc.install_pypi_package(\"pandas==1.0.5\")\n",
    "sc.install_pypi_package(\"matplotlib==3.2.1\")"
   ]
  },
  {
   "cell_type": "code",
   "execution_count": 3,
   "id": "e0a576cf",
   "metadata": {
    "execution": {
     "iopub.execute_input": "2024-11-06T20:21:37.045830Z",
     "iopub.status.busy": "2024-11-06T20:21:37.045532Z",
     "iopub.status.idle": "2024-11-06T20:21:46.345941Z",
     "shell.execute_reply": "2024-11-06T20:21:46.345098Z",
     "shell.execute_reply.started": "2024-11-06T20:21:37.045806Z"
    },
    "tags": []
   },
   "outputs": [
    {
     "data": {
      "application/vnd.jupyter.widget-view+json": {
       "model_id": "56d518c2ba2a47eb9c0feed5965d7d94",
       "version_major": 2,
       "version_minor": 0
      },
      "text/plain": [
       "VBox()"
      ]
     },
     "metadata": {},
     "output_type": "display_data"
    },
    {
     "data": {
      "application/vnd.jupyter.widget-view+json": {
       "model_id": "",
       "version_major": 2,
       "version_minor": 0
      },
      "text/plain": [
       "FloatProgress(value=0.0, bar_style='info', description='Progress:', layout=Layout(height='25px', width='50%'),…"
      ]
     },
     "metadata": {},
     "output_type": "display_data"
    },
    {
     "name": "stdout",
     "output_type": "stream",
     "text": [
      "Collecting pandas==1.0.5\n",
      "  Downloading pandas-1.0.5-cp37-cp37m-manylinux1_x86_64.whl (10.1 MB)\n",
      "Collecting python-dateutil>=2.6.1\n",
      "  Downloading python_dateutil-2.9.0.post0-py2.py3-none-any.whl (229 kB)\n",
      "Requirement already satisfied: pytz>=2017.2 in /usr/local/lib/python3.7/site-packages (from pandas==1.0.5) (2023.3)\n",
      "Requirement already satisfied: numpy>=1.13.3 in /usr/local/lib64/python3.7/site-packages (from pandas==1.0.5) (1.20.0)\n",
      "Requirement already satisfied: six>=1.5 in /usr/local/lib/python3.7/site-packages (from python-dateutil>=2.6.1->pandas==1.0.5) (1.13.0)\n",
      "Installing collected packages: python-dateutil, pandas\n",
      "Successfully installed pandas-1.0.5 python-dateutil-2.9.0.post0\n",
      "\n",
      "Collecting matplotlib==3.2.1\n",
      "  Downloading matplotlib-3.2.1-cp37-cp37m-manylinux1_x86_64.whl (12.4 MB)\n",
      "Collecting cycler>=0.10\n",
      "  Downloading cycler-0.11.0-py3-none-any.whl (6.4 kB)\n",
      "Collecting pyparsing!=2.0.4,!=2.1.2,!=2.1.6,>=2.0.1\n",
      "  Downloading pyparsing-3.1.4-py3-none-any.whl (104 kB)\n",
      "Requirement already satisfied: numpy>=1.11 in /usr/local/lib64/python3.7/site-packages (from matplotlib==3.2.1) (1.20.0)\n",
      "Requirement already satisfied: python-dateutil>=2.1 in ./tmp/spark-bc6b2510-a0a5-4d1b-83c3-d6764d7c491a/lib/python3.7/site-packages (from matplotlib==3.2.1) (2.9.0.post0)\n",
      "Collecting kiwisolver>=1.0.1\n",
      "  Downloading kiwisolver-1.4.5-cp37-cp37m-manylinux_2_5_x86_64.manylinux1_x86_64.whl (1.1 MB)\n",
      "Requirement already satisfied: six>=1.5 in /usr/local/lib/python3.7/site-packages (from python-dateutil>=2.1->matplotlib==3.2.1) (1.13.0)\n",
      "Collecting typing-extensions; python_version < \"3.8\"\n",
      "  Downloading typing_extensions-4.7.1-py3-none-any.whl (33 kB)\n",
      "Installing collected packages: cycler, pyparsing, typing-extensions, kiwisolver, matplotlib\n",
      "Successfully installed cycler-0.11.0 kiwisolver-1.4.5 matplotlib-3.2.1 pyparsing-3.1.4 typing-extensions-4.7.1\n",
      "\n",
      "WARNING: The directory '/home/.cache/pip' or its parent directory is not owned or is not writable by the current user. The cache has been disabled. Check the permissions and owner of that directory. If executing pip with sudo, you may want sudo's -H flag.\n",
      "\n",
      "WARNING: The directory '/home/.cache/pip' or its parent directory is not owned or is not writable by the current user. The cache has been disabled. Check the permissions and owner of that directory. If executing pip with sudo, you may want sudo's -H flag."
     ]
    }
   ],
   "source": []
  },
  {
   "cell_type": "markdown",
   "id": "5ab05754",
   "metadata": {},
   "source": [
    "Now, import the installed packages from the previous block below."
   ]
  },
  {
   "cell_type": "code",
   "execution_count": 5,
   "id": "667b9b97",
   "metadata": {
    "execution": {
     "iopub.execute_input": "2024-12-04T02:55:46.434076Z",
     "iopub.status.busy": "2024-12-04T02:55:46.433713Z",
     "iopub.status.idle": "2024-12-04T02:55:48.707888Z",
     "shell.execute_reply": "2024-12-04T02:55:48.707161Z",
     "shell.execute_reply.started": "2024-12-04T02:55:46.434042Z"
    },
    "tags": []
   },
   "outputs": [
    {
     "data": {
      "application/vnd.jupyter.widget-view+json": {
       "model_id": "2aee7eca59f143c0b763d06b6822fd23",
       "version_major": 2,
       "version_minor": 0
      },
      "text/plain": [
       "VBox()"
      ]
     },
     "metadata": {},
     "output_type": "display_data"
    },
    {
     "data": {
      "application/vnd.jupyter.widget-view+json": {
       "model_id": "",
       "version_major": 2,
       "version_minor": 0
      },
      "text/plain": [
       "FloatProgress(value=0.0, bar_style='info', description='Progress:', layout=Layout(height='25px', width='50%'),…"
      ]
     },
     "metadata": {},
     "output_type": "display_data"
    }
   ],
   "source": [
    "import pandas as pd\n",
    "import matplotlib.pyplot as plt"
   ]
  },
  {
   "cell_type": "code",
   "execution_count": 4,
   "id": "6d0a7012",
   "metadata": {
    "execution": {
     "iopub.execute_input": "2024-11-06T20:21:46.347265Z",
     "iopub.status.busy": "2024-11-06T20:21:46.347048Z",
     "iopub.status.idle": "2024-11-06T20:21:48.613880Z",
     "shell.execute_reply": "2024-11-06T20:21:48.613189Z",
     "shell.execute_reply.started": "2024-11-06T20:21:46.347244Z"
    },
    "tags": []
   },
   "outputs": [
    {
     "data": {
      "application/vnd.jupyter.widget-view+json": {
       "model_id": "afa8d24f0a1147f4a6aefd16ad1e64ff",
       "version_major": 2,
       "version_minor": 0
      },
      "text/plain": [
       "VBox()"
      ]
     },
     "metadata": {},
     "output_type": "display_data"
    },
    {
     "data": {
      "application/vnd.jupyter.widget-view+json": {
       "model_id": "",
       "version_major": 2,
       "version_minor": 0
      },
      "text/plain": [
       "FloatProgress(value=0.0, bar_style='info', description='Progress:', layout=Layout(height='25px', width='50%'),…"
      ]
     },
     "metadata": {},
     "output_type": "display_data"
    }
   ],
   "source": []
  },
  {
   "cell_type": "markdown",
   "id": "e963f4ba",
   "metadata": {},
   "source": [
    "# Loading Data"
   ]
  },
  {
   "cell_type": "markdown",
   "id": "b4356189",
   "metadata": {},
   "source": [
    "Load all data from S3 into a Spark dataframe object "
   ]
  },
  {
   "cell_type": "code",
   "execution_count": 6,
   "id": "732ebea3",
   "metadata": {
    "execution": {
     "iopub.execute_input": "2024-12-04T02:56:08.152299Z",
     "iopub.status.busy": "2024-12-04T02:56:08.151994Z",
     "iopub.status.idle": "2024-12-04T02:56:17.458655Z",
     "shell.execute_reply": "2024-12-04T02:56:17.457879Z",
     "shell.execute_reply.started": "2024-12-04T02:56:08.152273Z"
    },
    "tags": []
   },
   "outputs": [
    {
     "data": {
      "application/vnd.jupyter.widget-view+json": {
       "model_id": "0a63a78a02d04624b6f06bf8b48f361f",
       "version_major": 2,
       "version_minor": 0
      },
      "text/plain": [
       "VBox()"
      ]
     },
     "metadata": {},
     "output_type": "display_data"
    },
    {
     "data": {
      "application/vnd.jupyter.widget-view+json": {
       "model_id": "",
       "version_major": 2,
       "version_minor": 0
      },
      "text/plain": [
       "FloatProgress(value=0.0, bar_style='info', description='Progress:', layout=Layout(height='25px', width='50%'),…"
      ]
     },
     "metadata": {},
     "output_type": "display_data"
    }
   ],
   "source": [
    "name = spark.read.csv('s3://cis9760-lecture9-movieanalysis/name.basics.new.tsv', sep=r'\\t', header=True)\n",
    "titles = spark.read.csv('s3://cis9760-lecture9-movieanalysis/title.basic.new.tsv', sep=r'\\t', header=True)\n",
    "principles = spark.read.csv('s3://cis9760-lecture9-movieanalysis/title.principles.new.tsv', sep=r'\\t', header=True)\n",
    "ratings = spark.read.csv('s3://cis9760-lecture9-movieanalysis/title.ratings.new.tsv', sep=r'\\t', header=True)"
   ]
  },
  {
   "cell_type": "code",
   "execution_count": 49,
   "id": "24beddd1",
   "metadata": {
    "execution": {
     "iopub.execute_input": "2024-11-06T20:32:38.570853Z",
     "iopub.status.busy": "2024-11-06T20:32:38.570616Z",
     "iopub.status.idle": "2024-11-06T20:32:39.836028Z",
     "shell.execute_reply": "2024-11-06T20:32:39.835312Z",
     "shell.execute_reply.started": "2024-11-06T20:32:38.570829Z"
    },
    "tags": []
   },
   "outputs": [
    {
     "data": {
      "application/vnd.jupyter.widget-view+json": {
       "model_id": "468a83b7e85e4ee291dd14bbbcb34531",
       "version_major": 2,
       "version_minor": 0
      },
      "text/plain": [
       "VBox()"
      ]
     },
     "metadata": {},
     "output_type": "display_data"
    },
    {
     "data": {
      "application/vnd.jupyter.widget-view+json": {
       "model_id": "",
       "version_major": 2,
       "version_minor": 0
      },
      "text/plain": [
       "FloatProgress(value=0.0, bar_style='info', description='Progress:', layout=Layout(height='25px', width='50%'),…"
      ]
     },
     "metadata": {},
     "output_type": "display_data"
    }
   ],
   "source": []
  },
  {
   "cell_type": "markdown",
   "id": "c65401c7",
   "metadata": {},
   "source": [
    "## Name Basics"
   ]
  },
  {
   "cell_type": "markdown",
   "id": "03981851",
   "metadata": {},
   "source": [
    "Display the schema below:"
   ]
  },
  {
   "cell_type": "code",
   "execution_count": 7,
   "id": "cd77a732",
   "metadata": {
    "execution": {
     "iopub.execute_input": "2024-12-04T02:56:32.593941Z",
     "iopub.status.busy": "2024-12-04T02:56:32.593449Z",
     "iopub.status.idle": "2024-12-04T02:56:32.857510Z",
     "shell.execute_reply": "2024-12-04T02:56:32.856651Z",
     "shell.execute_reply.started": "2024-12-04T02:56:32.593896Z"
    },
    "tags": []
   },
   "outputs": [
    {
     "data": {
      "application/vnd.jupyter.widget-view+json": {
       "model_id": "93e63706a514418ebf6cf45afa20a3a0",
       "version_major": 2,
       "version_minor": 0
      },
      "text/plain": [
       "VBox()"
      ]
     },
     "metadata": {},
     "output_type": "display_data"
    },
    {
     "data": {
      "application/vnd.jupyter.widget-view+json": {
       "model_id": "",
       "version_major": 2,
       "version_minor": 0
      },
      "text/plain": [
       "FloatProgress(value=0.0, bar_style='info', description='Progress:', layout=Layout(height='25px', width='50%'),…"
      ]
     },
     "metadata": {},
     "output_type": "display_data"
    },
    {
     "name": "stdout",
     "output_type": "stream",
     "text": [
      "root\n",
      " |-- nconst: string (nullable = true)\n",
      " |-- primaryName: string (nullable = true)\n",
      " |-- birthYear: string (nullable = true)\n",
      " |-- deathYear: string (nullable = true)\n",
      " |-- primaryProfession: string (nullable = true)\n",
      " |-- knownForTitles: string (nullable = true)"
     ]
    }
   ],
   "source": [
    "name.printSchema()"
   ]
  },
  {
   "cell_type": "code",
   "execution_count": 50,
   "id": "98b95e51",
   "metadata": {
    "execution": {
     "iopub.execute_input": "2024-11-06T20:32:39.837927Z",
     "iopub.status.busy": "2024-11-06T20:32:39.837594Z",
     "iopub.status.idle": "2024-11-06T20:32:39.878518Z",
     "shell.execute_reply": "2024-11-06T20:32:39.877794Z",
     "shell.execute_reply.started": "2024-11-06T20:32:39.837891Z"
    },
    "tags": []
   },
   "outputs": [
    {
     "data": {
      "application/vnd.jupyter.widget-view+json": {
       "model_id": "611a8796ae464fd1b51ad7077acbdad1",
       "version_major": 2,
       "version_minor": 0
      },
      "text/plain": [
       "VBox()"
      ]
     },
     "metadata": {},
     "output_type": "display_data"
    },
    {
     "data": {
      "application/vnd.jupyter.widget-view+json": {
       "model_id": "",
       "version_major": 2,
       "version_minor": 0
      },
      "text/plain": [
       "FloatProgress(value=0.0, bar_style='info', description='Progress:', layout=Layout(height='25px', width='50%'),…"
      ]
     },
     "metadata": {},
     "output_type": "display_data"
    },
    {
     "name": "stdout",
     "output_type": "stream",
     "text": [
      "root\n",
      " |-- nconst: string (nullable = true)\n",
      " |-- primaryName: string (nullable = true)\n",
      " |-- birthYear: string (nullable = true)\n",
      " |-- deathYear: string (nullable = true)\n",
      " |-- primaryProfession: string (nullable = true)\n",
      " |-- knownForTitles: string (nullable = true)"
     ]
    }
   ],
   "source": []
  },
  {
   "cell_type": "markdown",
   "id": "dfd8a219",
   "metadata": {},
   "source": [
    "Display the first 15 rows with the following columns:\n",
    "\n",
    "* `nconst`\n",
    "* `primaryName`\n",
    "* `primaryProfession`\n",
    "* `birthYear`"
   ]
  },
  {
   "cell_type": "code",
   "execution_count": 8,
   "id": "112064d2",
   "metadata": {
    "execution": {
     "iopub.execute_input": "2024-12-04T02:56:48.646351Z",
     "iopub.status.busy": "2024-12-04T02:56:48.646037Z",
     "iopub.status.idle": "2024-12-04T02:56:49.404298Z",
     "shell.execute_reply": "2024-12-04T02:56:49.403513Z",
     "shell.execute_reply.started": "2024-12-04T02:56:48.646325Z"
    },
    "tags": []
   },
   "outputs": [
    {
     "data": {
      "application/vnd.jupyter.widget-view+json": {
       "model_id": "ed1859baeb9041d8a7fc1c701b9dd705",
       "version_major": 2,
       "version_minor": 0
      },
      "text/plain": [
       "VBox()"
      ]
     },
     "metadata": {},
     "output_type": "display_data"
    },
    {
     "data": {
      "application/vnd.jupyter.widget-view+json": {
       "model_id": "",
       "version_major": 2,
       "version_minor": 0
      },
      "text/plain": [
       "FloatProgress(value=0.0, bar_style='info', description='Progress:', layout=Layout(height='25px', width='50%'),…"
      ]
     },
     "metadata": {},
     "output_type": "display_data"
    },
    {
     "name": "stdout",
     "output_type": "stream",
     "text": [
      "+---------+-------------------+-------------------------------------+---------+\n",
      "|nconst   |primaryName        |primaryProfession                    |birthYear|\n",
      "+---------+-------------------+-------------------------------------+---------+\n",
      "|nm0000001|Fred Astaire       |soundtrack,actor,miscellaneous       |1899     |\n",
      "|nm0000002|Lauren Bacall      |actress,soundtrack                   |1924     |\n",
      "|nm0000003|Brigitte Bardot    |actress,soundtrack,music_department  |1934     |\n",
      "|nm0000004|John Belushi       |actor,soundtrack,writer              |1949     |\n",
      "|nm0000005|Ingmar Bergman     |writer,director,actor                |1918     |\n",
      "|nm0000006|Ingrid Bergman     |actress,soundtrack,producer          |1915     |\n",
      "|nm0000007|Humphrey Bogart    |actor,soundtrack,producer            |1899     |\n",
      "|nm0000008|Marlon Brando      |actor,soundtrack,director            |1924     |\n",
      "|nm0000009|Richard Burton     |actor,soundtrack,producer            |1925     |\n",
      "|nm0000010|James Cagney       |actor,soundtrack,director            |1899     |\n",
      "|nm0000011|Gary Cooper        |actor,soundtrack,stunts              |1901     |\n",
      "|nm0000012|Bette Davis        |actress,soundtrack,make_up_department|1908     |\n",
      "|nm0000013|Doris Day          |soundtrack,actress,producer          |1922     |\n",
      "|nm0000014|Olivia de Havilland|actress,soundtrack                   |1916     |\n",
      "|nm0000015|James Dean         |actor,miscellaneous                  |1931     |\n",
      "+---------+-------------------+-------------------------------------+---------+\n",
      "only showing top 15 rows"
     ]
    }
   ],
   "source": [
    "name.select(\"nconst\", \"primaryName\", \"primaryProfession\", \"birthYear\").show(15, truncate=False)"
   ]
  },
  {
   "cell_type": "code",
   "execution_count": 51,
   "id": "29db2340",
   "metadata": {
    "execution": {
     "iopub.execute_input": "2024-11-06T20:32:39.879997Z",
     "iopub.status.busy": "2024-11-06T20:32:39.879639Z",
     "iopub.status.idle": "2024-11-06T20:32:40.122801Z",
     "shell.execute_reply": "2024-11-06T20:32:40.122003Z",
     "shell.execute_reply.started": "2024-11-06T20:32:39.879962Z"
    },
    "tags": []
   },
   "outputs": [
    {
     "data": {
      "application/vnd.jupyter.widget-view+json": {
       "model_id": "212aa41bd5454a2eb55231c2345c04a1",
       "version_major": 2,
       "version_minor": 0
      },
      "text/plain": [
       "VBox()"
      ]
     },
     "metadata": {},
     "output_type": "display_data"
    },
    {
     "data": {
      "application/vnd.jupyter.widget-view+json": {
       "model_id": "",
       "version_major": 2,
       "version_minor": 0
      },
      "text/plain": [
       "FloatProgress(value=0.0, bar_style='info', description='Progress:', layout=Layout(height='25px', width='50%'),…"
      ]
     },
     "metadata": {},
     "output_type": "display_data"
    },
    {
     "name": "stdout",
     "output_type": "stream",
     "text": [
      "+---------+-------------------+-------------------------------------+---------+\n",
      "|nconst   |primaryName        |primaryProfession                    |birthYear|\n",
      "+---------+-------------------+-------------------------------------+---------+\n",
      "|nm0000001|Fred Astaire       |soundtrack,actor,miscellaneous       |1899     |\n",
      "|nm0000002|Lauren Bacall      |actress,soundtrack                   |1924     |\n",
      "|nm0000003|Brigitte Bardot    |actress,soundtrack,music_department  |1934     |\n",
      "|nm0000004|John Belushi       |actor,soundtrack,writer              |1949     |\n",
      "|nm0000005|Ingmar Bergman     |writer,director,actor                |1918     |\n",
      "|nm0000006|Ingrid Bergman     |actress,soundtrack,producer          |1915     |\n",
      "|nm0000007|Humphrey Bogart    |actor,soundtrack,producer            |1899     |\n",
      "|nm0000008|Marlon Brando      |actor,soundtrack,director            |1924     |\n",
      "|nm0000009|Richard Burton     |actor,soundtrack,producer            |1925     |\n",
      "|nm0000010|James Cagney       |actor,soundtrack,director            |1899     |\n",
      "|nm0000011|Gary Cooper        |actor,soundtrack,stunts              |1901     |\n",
      "|nm0000012|Bette Davis        |actress,soundtrack,make_up_department|1908     |\n",
      "|nm0000013|Doris Day          |soundtrack,actress,producer          |1922     |\n",
      "|nm0000014|Olivia de Havilland|actress,soundtrack                   |1916     |\n",
      "|nm0000015|James Dean         |actor,miscellaneous                  |1931     |\n",
      "+---------+-------------------+-------------------------------------+---------+\n",
      "only showing top 15 rows"
     ]
    }
   ],
   "source": []
  },
  {
   "cell_type": "markdown",
   "id": "65371453",
   "metadata": {},
   "source": [
    "## Title Basics"
   ]
  },
  {
   "cell_type": "markdown",
   "id": "b95d8c5a",
   "metadata": {},
   "source": [
    "Display the first 5 rows with the following columns:\n",
    "    \n",
    "* `tconst`    \n",
    "* `titleType`\n",
    "* `primaryTitle`\n",
    "* `genres`"
   ]
  },
  {
   "cell_type": "code",
   "execution_count": 9,
   "id": "03956a6c",
   "metadata": {
    "execution": {
     "iopub.execute_input": "2024-12-04T02:57:23.673318Z",
     "iopub.status.busy": "2024-12-04T02:57:23.672994Z",
     "iopub.status.idle": "2024-12-04T02:57:24.437592Z",
     "shell.execute_reply": "2024-12-04T02:57:24.436736Z",
     "shell.execute_reply.started": "2024-12-04T02:57:23.673289Z"
    },
    "tags": []
   },
   "outputs": [
    {
     "data": {
      "application/vnd.jupyter.widget-view+json": {
       "model_id": "f6298017db4840c0a282055f297b7160",
       "version_major": 2,
       "version_minor": 0
      },
      "text/plain": [
       "VBox()"
      ]
     },
     "metadata": {},
     "output_type": "display_data"
    },
    {
     "data": {
      "application/vnd.jupyter.widget-view+json": {
       "model_id": "",
       "version_major": 2,
       "version_minor": 0
      },
      "text/plain": [
       "FloatProgress(value=0.0, bar_style='info', description='Progress:', layout=Layout(height='25px', width='50%'),…"
      ]
     },
     "metadata": {},
     "output_type": "display_data"
    },
    {
     "name": "stdout",
     "output_type": "stream",
     "text": [
      "+---------+---------+----------------------+------------------------+\n",
      "|tconst   |titleType|primaryTitle          |genres                  |\n",
      "+---------+---------+----------------------+------------------------+\n",
      "|tt0000001|short    |Carmencita            |Documentary,Short       |\n",
      "|tt0000002|short    |Le clown et ses chiens|Animation,Short         |\n",
      "|tt0000003|short    |Pauvre Pierrot        |Animation,Comedy,Romance|\n",
      "|tt0000004|short    |Un bon bock           |Animation,Short         |\n",
      "|tt0000005|short    |Blacksmith Scene      |Comedy,Short            |\n",
      "+---------+---------+----------------------+------------------------+\n",
      "only showing top 5 rows"
     ]
    }
   ],
   "source": [
    "titles.select(\"tconst\", \"titleType\", \"primaryTitle\", \"genres\").show(5, truncate=False)"
   ]
  },
  {
   "cell_type": "code",
   "execution_count": 52,
   "id": "74c95177",
   "metadata": {
    "execution": {
     "iopub.execute_input": "2024-11-06T20:32:40.124379Z",
     "iopub.status.busy": "2024-11-06T20:32:40.124054Z",
     "iopub.status.idle": "2024-11-06T20:32:40.371900Z",
     "shell.execute_reply": "2024-11-06T20:32:40.371055Z",
     "shell.execute_reply.started": "2024-11-06T20:32:40.124343Z"
    },
    "tags": []
   },
   "outputs": [
    {
     "data": {
      "application/vnd.jupyter.widget-view+json": {
       "model_id": "bd4c48d208c44aaeaff39cd1d2a68ea9",
       "version_major": 2,
       "version_minor": 0
      },
      "text/plain": [
       "VBox()"
      ]
     },
     "metadata": {},
     "output_type": "display_data"
    },
    {
     "data": {
      "application/vnd.jupyter.widget-view+json": {
       "model_id": "",
       "version_major": 2,
       "version_minor": 0
      },
      "text/plain": [
       "FloatProgress(value=0.0, bar_style='info', description='Progress:', layout=Layout(height='25px', width='50%'),…"
      ]
     },
     "metadata": {},
     "output_type": "display_data"
    },
    {
     "name": "stdout",
     "output_type": "stream",
     "text": [
      "+---------+---------+----------------------+------------------------+\n",
      "|tconst   |titleType|primaryTitle          |genres                  |\n",
      "+---------+---------+----------------------+------------------------+\n",
      "|tt0000001|short    |Carmencita            |Documentary,Short       |\n",
      "|tt0000002|short    |Le clown et ses chiens|Animation,Short         |\n",
      "|tt0000003|short    |Pauvre Pierrot        |Animation,Comedy,Romance|\n",
      "|tt0000004|short    |Un bon bock           |Animation,Short         |\n",
      "|tt0000005|short    |Blacksmith Scene      |Comedy,Short            |\n",
      "+---------+---------+----------------------+------------------------+\n",
      "only showing top 5 rows"
     ]
    }
   ],
   "source": []
  },
  {
   "cell_type": "markdown",
   "id": "f3852bb4",
   "metadata": {},
   "source": [
    "Display the unique title types below:"
   ]
  },
  {
   "cell_type": "code",
   "execution_count": 10,
   "id": "cce113c1",
   "metadata": {
    "execution": {
     "iopub.execute_input": "2024-12-04T02:57:45.996489Z",
     "iopub.status.busy": "2024-12-04T02:57:45.996168Z",
     "iopub.status.idle": "2024-12-04T02:58:01.315036Z",
     "shell.execute_reply": "2024-12-04T02:58:01.314273Z",
     "shell.execute_reply.started": "2024-12-04T02:57:45.996463Z"
    },
    "tags": []
   },
   "outputs": [
    {
     "data": {
      "application/vnd.jupyter.widget-view+json": {
       "model_id": "436aa415f61c49529e1f3e9cdb16e7aa",
       "version_major": 2,
       "version_minor": 0
      },
      "text/plain": [
       "VBox()"
      ]
     },
     "metadata": {},
     "output_type": "display_data"
    },
    {
     "data": {
      "application/vnd.jupyter.widget-view+json": {
       "model_id": "",
       "version_major": 2,
       "version_minor": 0
      },
      "text/plain": [
       "FloatProgress(value=0.0, bar_style='info', description='Progress:', layout=Layout(height='25px', width='50%'),…"
      ]
     },
     "metadata": {},
     "output_type": "display_data"
    },
    {
     "name": "stdout",
     "output_type": "stream",
     "text": [
      "+------------+\n",
      "|titleType   |\n",
      "+------------+\n",
      "|tvSeries    |\n",
      "|tvMiniSeries|\n",
      "|movie       |\n",
      "|videoGame   |\n",
      "|tvSpecial   |\n",
      "|video       |\n",
      "|tvMovie     |\n",
      "|tvEpisode   |\n",
      "|tvShort     |\n",
      "|short       |\n",
      "|tvPilot     |\n",
      "+------------+"
     ]
    }
   ],
   "source": [
    "titles.select(\"titleType\").distinct().show(truncate=False)"
   ]
  },
  {
   "cell_type": "code",
   "execution_count": 53,
   "id": "2a28caff",
   "metadata": {
    "execution": {
     "iopub.execute_input": "2024-11-06T20:32:40.374119Z",
     "iopub.status.busy": "2024-11-06T20:32:40.373882Z",
     "iopub.status.idle": "2024-11-06T20:32:53.677436Z",
     "shell.execute_reply": "2024-11-06T20:32:53.676713Z",
     "shell.execute_reply.started": "2024-11-06T20:32:40.374087Z"
    },
    "tags": []
   },
   "outputs": [
    {
     "data": {
      "application/vnd.jupyter.widget-view+json": {
       "model_id": "25ff6def7f984a578fa863c162c04249",
       "version_major": 2,
       "version_minor": 0
      },
      "text/plain": [
       "VBox()"
      ]
     },
     "metadata": {},
     "output_type": "display_data"
    },
    {
     "data": {
      "application/vnd.jupyter.widget-view+json": {
       "model_id": "",
       "version_major": 2,
       "version_minor": 0
      },
      "text/plain": [
       "FloatProgress(value=0.0, bar_style='info', description='Progress:', layout=Layout(height='25px', width='50%'),…"
      ]
     },
     "metadata": {},
     "output_type": "display_data"
    },
    {
     "name": "stdout",
     "output_type": "stream",
     "text": [
      "+------------+\n",
      "|titleType   |\n",
      "+------------+\n",
      "|tvSeries    |\n",
      "|tvMiniSeries|\n",
      "|movie       |\n",
      "|videoGame   |\n",
      "|tvSpecial   |\n",
      "|video       |\n",
      "|tvMovie     |\n",
      "|tvEpisode   |\n",
      "|tvShort     |\n",
      "|short       |\n",
      "|tvPilot     |\n",
      "+------------+"
     ]
    }
   ],
   "source": []
  },
  {
   "cell_type": "markdown",
   "id": "d8f3c92f",
   "metadata": {},
   "source": [
    "Display the schema below:"
   ]
  },
  {
   "cell_type": "code",
   "execution_count": 11,
   "id": "2b2b982b",
   "metadata": {
    "execution": {
     "iopub.execute_input": "2024-12-04T02:58:14.635086Z",
     "iopub.status.busy": "2024-12-04T02:58:14.634734Z",
     "iopub.status.idle": "2024-12-04T02:58:14.694127Z",
     "shell.execute_reply": "2024-12-04T02:58:14.692967Z",
     "shell.execute_reply.started": "2024-12-04T02:58:14.635055Z"
    },
    "tags": []
   },
   "outputs": [
    {
     "data": {
      "application/vnd.jupyter.widget-view+json": {
       "model_id": "c22800fe7921408ebf54872800d3f035",
       "version_major": 2,
       "version_minor": 0
      },
      "text/plain": [
       "VBox()"
      ]
     },
     "metadata": {},
     "output_type": "display_data"
    },
    {
     "data": {
      "application/vnd.jupyter.widget-view+json": {
       "model_id": "",
       "version_major": 2,
       "version_minor": 0
      },
      "text/plain": [
       "FloatProgress(value=0.0, bar_style='info', description='Progress:', layout=Layout(height='25px', width='50%'),…"
      ]
     },
     "metadata": {},
     "output_type": "display_data"
    },
    {
     "name": "stdout",
     "output_type": "stream",
     "text": [
      "root\n",
      " |-- tconst: string (nullable = true)\n",
      " |-- titleType: string (nullable = true)\n",
      " |-- primaryTitle: string (nullable = true)\n",
      " |-- originalTitle: string (nullable = true)\n",
      " |-- isAdult: string (nullable = true)\n",
      " |-- startYear: string (nullable = true)\n",
      " |-- endYear: string (nullable = true)\n",
      " |-- runtimeMinutes: string (nullable = true)\n",
      " |-- genres: string (nullable = true)"
     ]
    }
   ],
   "source": [
    "titles.printSchema()"
   ]
  },
  {
   "cell_type": "code",
   "execution_count": 54,
   "id": "8334d2fe",
   "metadata": {
    "execution": {
     "iopub.execute_input": "2024-11-06T20:32:53.679684Z",
     "iopub.status.busy": "2024-11-06T20:32:53.679345Z",
     "iopub.status.idle": "2024-11-06T20:32:53.730140Z",
     "shell.execute_reply": "2024-11-06T20:32:53.729473Z",
     "shell.execute_reply.started": "2024-11-06T20:32:53.679649Z"
    },
    "tags": []
   },
   "outputs": [
    {
     "data": {
      "application/vnd.jupyter.widget-view+json": {
       "model_id": "fe7464e03a7841bb8c919f0d9a2dd8d7",
       "version_major": 2,
       "version_minor": 0
      },
      "text/plain": [
       "VBox()"
      ]
     },
     "metadata": {},
     "output_type": "display_data"
    },
    {
     "data": {
      "application/vnd.jupyter.widget-view+json": {
       "model_id": "",
       "version_major": 2,
       "version_minor": 0
      },
      "text/plain": [
       "FloatProgress(value=0.0, bar_style='info', description='Progress:', layout=Layout(height='25px', width='50%'),…"
      ]
     },
     "metadata": {},
     "output_type": "display_data"
    },
    {
     "name": "stdout",
     "output_type": "stream",
     "text": [
      "root\n",
      " |-- tconst: string (nullable = true)\n",
      " |-- titleType: string (nullable = true)\n",
      " |-- primaryTitle: string (nullable = true)\n",
      " |-- originalTitle: string (nullable = true)\n",
      " |-- isAdult: string (nullable = true)\n",
      " |-- startYear: string (nullable = true)\n",
      " |-- endYear: string (nullable = true)\n",
      " |-- runtimeMinutes: string (nullable = true)\n",
      " |-- genres: string (nullable = true)"
     ]
    }
   ],
   "source": []
  },
  {
   "cell_type": "markdown",
   "id": "4472d6ef-ddc2-4211-a29a-a5f408950963",
   "metadata": {},
   "source": [
    "Remove the 'originalTitle' from the dataframe and display the schema to verify it."
   ]
  },
  {
   "cell_type": "code",
   "execution_count": 12,
   "id": "acf35291",
   "metadata": {
    "execution": {
     "iopub.execute_input": "2024-12-04T02:58:37.178685Z",
     "iopub.status.busy": "2024-12-04T02:58:37.178369Z",
     "iopub.status.idle": "2024-12-04T02:58:37.233038Z",
     "shell.execute_reply": "2024-12-04T02:58:37.232299Z",
     "shell.execute_reply.started": "2024-12-04T02:58:37.178658Z"
    },
    "tags": []
   },
   "outputs": [
    {
     "data": {
      "application/vnd.jupyter.widget-view+json": {
       "model_id": "c5476fabed834e54827f8e83975f6423",
       "version_major": 2,
       "version_minor": 0
      },
      "text/plain": [
       "VBox()"
      ]
     },
     "metadata": {},
     "output_type": "display_data"
    },
    {
     "data": {
      "application/vnd.jupyter.widget-view+json": {
       "model_id": "",
       "version_major": 2,
       "version_minor": 0
      },
      "text/plain": [
       "FloatProgress(value=0.0, bar_style='info', description='Progress:', layout=Layout(height='25px', width='50%'),…"
      ]
     },
     "metadata": {},
     "output_type": "display_data"
    },
    {
     "name": "stdout",
     "output_type": "stream",
     "text": [
      "root\n",
      " |-- tconst: string (nullable = true)\n",
      " |-- titleType: string (nullable = true)\n",
      " |-- primaryTitle: string (nullable = true)\n",
      " |-- isAdult: string (nullable = true)\n",
      " |-- startYear: string (nullable = true)\n",
      " |-- endYear: string (nullable = true)\n",
      " |-- runtimeMinutes: string (nullable = true)\n",
      " |-- genres: string (nullable = true)"
     ]
    }
   ],
   "source": [
    "titles=titles.drop(\"originalTitle\")\n",
    "titles.printSchema()"
   ]
  },
  {
   "cell_type": "code",
   "execution_count": 55,
   "id": "469f9978-12f2-47bb-91a1-71b47b53d2dd",
   "metadata": {
    "execution": {
     "iopub.execute_input": "2024-11-06T20:32:53.733187Z",
     "iopub.status.busy": "2024-11-06T20:32:53.732916Z",
     "iopub.status.idle": "2024-11-06T20:32:53.781230Z",
     "shell.execute_reply": "2024-11-06T20:32:53.780327Z",
     "shell.execute_reply.started": "2024-11-06T20:32:53.733162Z"
    },
    "tags": []
   },
   "outputs": [
    {
     "data": {
      "application/vnd.jupyter.widget-view+json": {
       "model_id": "026beea4fd154be8888ac982dc4d972c",
       "version_major": 2,
       "version_minor": 0
      },
      "text/plain": [
       "VBox()"
      ]
     },
     "metadata": {},
     "output_type": "display_data"
    },
    {
     "data": {
      "application/vnd.jupyter.widget-view+json": {
       "model_id": "",
       "version_major": 2,
       "version_minor": 0
      },
      "text/plain": [
       "FloatProgress(value=0.0, bar_style='info', description='Progress:', layout=Layout(height='25px', width='50%'),…"
      ]
     },
     "metadata": {},
     "output_type": "display_data"
    },
    {
     "name": "stdout",
     "output_type": "stream",
     "text": [
      "root\n",
      " |-- tconst: string (nullable = true)\n",
      " |-- titleType: string (nullable = true)\n",
      " |-- primaryTitle: string (nullable = true)\n",
      " |-- isAdult: string (nullable = true)\n",
      " |-- startYear: string (nullable = true)\n",
      " |-- endYear: string (nullable = true)\n",
      " |-- runtimeMinutes: string (nullable = true)\n",
      " |-- genres: string (nullable = true)"
     ]
    }
   ],
   "source": []
  },
  {
   "cell_type": "markdown",
   "id": "bf21e1b7",
   "metadata": {},
   "source": [
    "## Title Principles"
   ]
  },
  {
   "cell_type": "markdown",
   "id": "442830b8",
   "metadata": {},
   "source": [
    "Display the schema below:"
   ]
  },
  {
   "cell_type": "code",
   "execution_count": 13,
   "id": "3551fb48",
   "metadata": {
    "execution": {
     "iopub.execute_input": "2024-12-04T02:58:52.383846Z",
     "iopub.status.busy": "2024-12-04T02:58:52.383543Z",
     "iopub.status.idle": "2024-12-04T02:58:52.431952Z",
     "shell.execute_reply": "2024-12-04T02:58:52.431226Z",
     "shell.execute_reply.started": "2024-12-04T02:58:52.383822Z"
    },
    "tags": []
   },
   "outputs": [
    {
     "data": {
      "application/vnd.jupyter.widget-view+json": {
       "model_id": "83003f4763a74e9e89b0d869a70346e1",
       "version_major": 2,
       "version_minor": 0
      },
      "text/plain": [
       "VBox()"
      ]
     },
     "metadata": {},
     "output_type": "display_data"
    },
    {
     "data": {
      "application/vnd.jupyter.widget-view+json": {
       "model_id": "",
       "version_major": 2,
       "version_minor": 0
      },
      "text/plain": [
       "FloatProgress(value=0.0, bar_style='info', description='Progress:', layout=Layout(height='25px', width='50%'),…"
      ]
     },
     "metadata": {},
     "output_type": "display_data"
    },
    {
     "name": "stdout",
     "output_type": "stream",
     "text": [
      "root\n",
      " |-- tconst: string (nullable = true)\n",
      " |-- ordering: string (nullable = true)\n",
      " |-- nconst: string (nullable = true)\n",
      " |-- category: string (nullable = true)\n",
      " |-- job: string (nullable = true)\n",
      " |-- characters: string (nullable = true)"
     ]
    }
   ],
   "source": [
    "principles.printSchema()"
   ]
  },
  {
   "cell_type": "code",
   "execution_count": 56,
   "id": "b7241872",
   "metadata": {
    "execution": {
     "iopub.execute_input": "2024-11-06T20:32:53.782360Z",
     "iopub.status.busy": "2024-11-06T20:32:53.782138Z",
     "iopub.status.idle": "2024-11-06T20:32:53.824947Z",
     "shell.execute_reply": "2024-11-06T20:32:53.824145Z",
     "shell.execute_reply.started": "2024-11-06T20:32:53.782338Z"
    },
    "tags": []
   },
   "outputs": [
    {
     "data": {
      "application/vnd.jupyter.widget-view+json": {
       "model_id": "2d7412b493914fb1a13d885d87da6cb8",
       "version_major": 2,
       "version_minor": 0
      },
      "text/plain": [
       "VBox()"
      ]
     },
     "metadata": {},
     "output_type": "display_data"
    },
    {
     "data": {
      "application/vnd.jupyter.widget-view+json": {
       "model_id": "",
       "version_major": 2,
       "version_minor": 0
      },
      "text/plain": [
       "FloatProgress(value=0.0, bar_style='info', description='Progress:', layout=Layout(height='25px', width='50%'),…"
      ]
     },
     "metadata": {},
     "output_type": "display_data"
    },
    {
     "name": "stdout",
     "output_type": "stream",
     "text": [
      "root\n",
      " |-- tconst: string (nullable = true)\n",
      " |-- ordering: string (nullable = true)\n",
      " |-- nconst: string (nullable = true)\n",
      " |-- category: string (nullable = true)\n",
      " |-- job: string (nullable = true)\n",
      " |-- characters: string (nullable = true)"
     ]
    }
   ],
   "source": []
  },
  {
   "cell_type": "markdown",
   "id": "e24870d3",
   "metadata": {},
   "source": [
    "Display the first 15 rows where the \"category\" column is \"producer\""
   ]
  },
  {
   "cell_type": "code",
   "execution_count": 14,
   "id": "6573f5da",
   "metadata": {
    "execution": {
     "iopub.execute_input": "2024-12-04T02:59:04.310797Z",
     "iopub.status.busy": "2024-12-04T02:59:04.310483Z",
     "iopub.status.idle": "2024-12-04T02:59:13.639841Z",
     "shell.execute_reply": "2024-12-04T02:59:13.639043Z",
     "shell.execute_reply.started": "2024-12-04T02:59:04.310771Z"
    },
    "tags": []
   },
   "outputs": [
    {
     "data": {
      "application/vnd.jupyter.widget-view+json": {
       "model_id": "2bd69453981d43abad00351f7e9d4681",
       "version_major": 2,
       "version_minor": 0
      },
      "text/plain": [
       "VBox()"
      ]
     },
     "metadata": {},
     "output_type": "display_data"
    },
    {
     "data": {
      "application/vnd.jupyter.widget-view+json": {
       "model_id": "",
       "version_major": 2,
       "version_minor": 0
      },
      "text/plain": [
       "FloatProgress(value=0.0, bar_style='info', description='Progress:', layout=Layout(height='25px', width='50%'),…"
      ]
     },
     "metadata": {},
     "output_type": "display_data"
    },
    {
     "name": "stdout",
     "output_type": "stream",
     "text": [
      "+---------+--------+---------+--------+--------+----------+\n",
      "|tconst   |ordering|nconst   |category|job     |characters|\n",
      "+---------+--------+---------+--------+--------+----------+\n",
      "|tt0000003|2       |nm1770680|producer|producer|\\N        |\n",
      "|tt0000005|4       |nm0249379|producer|producer|\\N        |\n",
      "|tt0000007|5       |nm0249379|producer|producer|\\N        |\n",
      "|tt0000020|2       |nm0666972|producer|producer|\\N        |\n",
      "|tt0000024|4       |nm0666972|producer|producer|\\N        |\n",
      "|tt0000025|2       |nm0666972|producer|producer|\\N        |\n",
      "|tt0000039|1       |nm0666972|producer|producer|\\N        |\n",
      "|tt0000041|2       |nm0525908|producer|producer|\\N        |\n",
      "|tt0000061|3       |nm0666972|producer|producer|\\N        |\n",
      "|tt0000089|3       |nm0525910|producer|producer|\\N        |\n",
      "|tt0000104|1       |nm0525910|producer|producer|\\N        |\n",
      "|tt0000121|5       |nm0666972|producer|producer|\\N        |\n",
      "|tt0000125|1       |nm0666972|producer|producer|\\N        |\n",
      "|tt0000147|6       |nm0103755|producer|producer|\\N        |\n",
      "|tt0000160|2       |nm0666972|producer|producer|\\N        |\n",
      "+---------+--------+---------+--------+--------+----------+\n",
      "only showing top 15 rows"
     ]
    }
   ],
   "source": [
    "from pyspark.sql.functions import col\n",
    "principles.filter(col(\"category\") == 'producer').show(15, truncate=False)"
   ]
  },
  {
   "cell_type": "code",
   "execution_count": 57,
   "id": "3f6dbef1",
   "metadata": {
    "execution": {
     "iopub.execute_input": "2024-11-06T20:32:53.826436Z",
     "iopub.status.busy": "2024-11-06T20:32:53.826116Z",
     "iopub.status.idle": "2024-11-06T20:32:54.074936Z",
     "shell.execute_reply": "2024-11-06T20:32:54.074166Z",
     "shell.execute_reply.started": "2024-11-06T20:32:53.826400Z"
    },
    "tags": []
   },
   "outputs": [
    {
     "data": {
      "application/vnd.jupyter.widget-view+json": {
       "model_id": "195484036b654903bc4c9a265b80f238",
       "version_major": 2,
       "version_minor": 0
      },
      "text/plain": [
       "VBox()"
      ]
     },
     "metadata": {},
     "output_type": "display_data"
    },
    {
     "data": {
      "application/vnd.jupyter.widget-view+json": {
       "model_id": "",
       "version_major": 2,
       "version_minor": 0
      },
      "text/plain": [
       "FloatProgress(value=0.0, bar_style='info', description='Progress:', layout=Layout(height='25px', width='50%'),…"
      ]
     },
     "metadata": {},
     "output_type": "display_data"
    },
    {
     "name": "stdout",
     "output_type": "stream",
     "text": [
      "+---------+--------+---------+--------+--------+----------+\n",
      "|tconst   |ordering|nconst   |category|job     |characters|\n",
      "+---------+--------+---------+--------+--------+----------+\n",
      "|tt0000003|2       |nm1770680|producer|producer|\\N        |\n",
      "|tt0000005|4       |nm0249379|producer|producer|\\N        |\n",
      "|tt0000007|5       |nm0249379|producer|producer|\\N        |\n",
      "|tt0000020|2       |nm0666972|producer|producer|\\N        |\n",
      "|tt0000024|4       |nm0666972|producer|producer|\\N        |\n",
      "|tt0000025|2       |nm0666972|producer|producer|\\N        |\n",
      "|tt0000039|1       |nm0666972|producer|producer|\\N        |\n",
      "|tt0000041|2       |nm0525908|producer|producer|\\N        |\n",
      "|tt0000061|3       |nm0666972|producer|producer|\\N        |\n",
      "|tt0000089|3       |nm0525910|producer|producer|\\N        |\n",
      "|tt0000104|1       |nm0525910|producer|producer|\\N        |\n",
      "|tt0000121|5       |nm0666972|producer|producer|\\N        |\n",
      "|tt0000125|1       |nm0666972|producer|producer|\\N        |\n",
      "|tt0000147|6       |nm0103755|producer|producer|\\N        |\n",
      "|tt0000160|2       |nm0666972|producer|producer|\\N        |\n",
      "+---------+--------+---------+--------+--------+----------+\n",
      "only showing top 15 rows"
     ]
    }
   ],
   "source": []
  },
  {
   "cell_type": "markdown",
   "id": "d8e128fc",
   "metadata": {},
   "source": [
    "## Title Ratings"
   ]
  },
  {
   "cell_type": "markdown",
   "id": "c40d60cd",
   "metadata": {},
   "source": [
    "Display the schema below:"
   ]
  },
  {
   "cell_type": "code",
   "execution_count": 15,
   "id": "c887f3f6",
   "metadata": {
    "execution": {
     "iopub.execute_input": "2024-12-04T02:59:25.937977Z",
     "iopub.status.busy": "2024-12-04T02:59:25.937620Z",
     "iopub.status.idle": "2024-12-04T02:59:25.982759Z",
     "shell.execute_reply": "2024-12-04T02:59:25.982000Z",
     "shell.execute_reply.started": "2024-12-04T02:59:25.937947Z"
    },
    "tags": []
   },
   "outputs": [
    {
     "data": {
      "application/vnd.jupyter.widget-view+json": {
       "model_id": "633bbc2d3b4d417caeeb805ec647aa4b",
       "version_major": 2,
       "version_minor": 0
      },
      "text/plain": [
       "VBox()"
      ]
     },
     "metadata": {},
     "output_type": "display_data"
    },
    {
     "data": {
      "application/vnd.jupyter.widget-view+json": {
       "model_id": "",
       "version_major": 2,
       "version_minor": 0
      },
      "text/plain": [
       "FloatProgress(value=0.0, bar_style='info', description='Progress:', layout=Layout(height='25px', width='50%'),…"
      ]
     },
     "metadata": {},
     "output_type": "display_data"
    },
    {
     "name": "stdout",
     "output_type": "stream",
     "text": [
      "root\n",
      " |-- tconst: string (nullable = true)\n",
      " |-- averageRating: string (nullable = true)\n",
      " |-- numVotes: string (nullable = true)"
     ]
    }
   ],
   "source": [
    "ratings.printSchema()"
   ]
  },
  {
   "cell_type": "code",
   "execution_count": 58,
   "id": "1ed78395",
   "metadata": {
    "execution": {
     "iopub.execute_input": "2024-11-06T20:32:54.076435Z",
     "iopub.status.busy": "2024-11-06T20:32:54.076113Z",
     "iopub.status.idle": "2024-11-06T20:32:54.119437Z",
     "shell.execute_reply": "2024-11-06T20:32:54.118724Z",
     "shell.execute_reply.started": "2024-11-06T20:32:54.076400Z"
    },
    "tags": []
   },
   "outputs": [
    {
     "data": {
      "application/vnd.jupyter.widget-view+json": {
       "model_id": "2715d3296d3542eaa28f393e706ce05f",
       "version_major": 2,
       "version_minor": 0
      },
      "text/plain": [
       "VBox()"
      ]
     },
     "metadata": {},
     "output_type": "display_data"
    },
    {
     "data": {
      "application/vnd.jupyter.widget-view+json": {
       "model_id": "",
       "version_major": 2,
       "version_minor": 0
      },
      "text/plain": [
       "FloatProgress(value=0.0, bar_style='info', description='Progress:', layout=Layout(height='25px', width='50%'),…"
      ]
     },
     "metadata": {},
     "output_type": "display_data"
    },
    {
     "name": "stdout",
     "output_type": "stream",
     "text": [
      "root\n",
      " |-- tconst: string (nullable = true)\n",
      " |-- averageRating: string (nullable = true)\n",
      " |-- numVotes: string (nullable = true)"
     ]
    }
   ],
   "source": []
  },
  {
   "cell_type": "markdown",
   "id": "76ac1ac7",
   "metadata": {},
   "source": [
    "Display the first 10 rows in a descending order by the number of votes"
   ]
  },
  {
   "cell_type": "code",
   "execution_count": 16,
   "id": "ee3fa6ac",
   "metadata": {
    "execution": {
     "iopub.execute_input": "2024-12-04T02:59:34.851891Z",
     "iopub.status.busy": "2024-12-04T02:59:34.851595Z",
     "iopub.status.idle": "2024-12-04T02:59:37.122710Z",
     "shell.execute_reply": "2024-12-04T02:59:37.121805Z",
     "shell.execute_reply.started": "2024-12-04T02:59:34.851866Z"
    },
    "tags": []
   },
   "outputs": [
    {
     "data": {
      "application/vnd.jupyter.widget-view+json": {
       "model_id": "6bf9fae4b92f4323991857a22f701aef",
       "version_major": 2,
       "version_minor": 0
      },
      "text/plain": [
       "VBox()"
      ]
     },
     "metadata": {},
     "output_type": "display_data"
    },
    {
     "data": {
      "application/vnd.jupyter.widget-view+json": {
       "model_id": "",
       "version_major": 2,
       "version_minor": 0
      },
      "text/plain": [
       "FloatProgress(value=0.0, bar_style='info', description='Progress:', layout=Layout(height='25px', width='50%'),…"
      ]
     },
     "metadata": {},
     "output_type": "display_data"
    },
    {
     "name": "stdout",
     "output_type": "stream",
     "text": [
      "+---------+-------------+--------+\n",
      "|   tconst|averageRating|numVotes|\n",
      "+---------+-------------+--------+\n",
      "|tt0111161|          9.3| 2868594|\n",
      "|tt0468569|          9.0| 2850372|\n",
      "|tt1375666|          8.8| 2531543|\n",
      "|tt0137523|          8.8| 2303989|\n",
      "|tt0944947|          9.2| 2265760|\n",
      "|tt0109830|          8.8| 2239746|\n",
      "|tt0110912|          8.9| 2203191|\n",
      "|tt0903747|          9.5| 2114358|\n",
      "|tt0816692|          8.7| 2073181|\n",
      "|tt0133093|          8.7| 2038364|\n",
      "+---------+-------------+--------+\n",
      "only showing top 10 rows"
     ]
    }
   ],
   "source": [
    "ratings=ratings.withColumn(\"numVotes\", col(\"numVotes\").cast(\"int\"))\n",
    "ratings.sort(ratings.numVotes.desc()).show(10)"
   ]
  },
  {
   "cell_type": "code",
   "execution_count": 59,
   "id": "9f663e07",
   "metadata": {
    "execution": {
     "iopub.execute_input": "2024-11-06T20:32:54.120613Z",
     "iopub.status.busy": "2024-11-06T20:32:54.120379Z",
     "iopub.status.idle": "2024-11-06T20:32:55.379508Z",
     "shell.execute_reply": "2024-11-06T20:32:55.378567Z",
     "shell.execute_reply.started": "2024-11-06T20:32:54.120590Z"
    },
    "tags": []
   },
   "outputs": [
    {
     "data": {
      "application/vnd.jupyter.widget-view+json": {
       "model_id": "9295ee5e6259447595b21775e2cfea0d",
       "version_major": 2,
       "version_minor": 0
      },
      "text/plain": [
       "VBox()"
      ]
     },
     "metadata": {},
     "output_type": "display_data"
    },
    {
     "data": {
      "application/vnd.jupyter.widget-view+json": {
       "model_id": "",
       "version_major": 2,
       "version_minor": 0
      },
      "text/plain": [
       "FloatProgress(value=0.0, bar_style='info', description='Progress:', layout=Layout(height='25px', width='50%'),…"
      ]
     },
     "metadata": {},
     "output_type": "display_data"
    },
    {
     "name": "stdout",
     "output_type": "stream",
     "text": [
      "+---------+-------------+--------+\n",
      "|   tconst|averageRating|numVotes|\n",
      "+---------+-------------+--------+\n",
      "|tt0111161|          9.3| 2868594|\n",
      "|tt0468569|          9.0| 2850372|\n",
      "|tt1375666|          8.8| 2531543|\n",
      "|tt0137523|          8.8| 2303989|\n",
      "|tt0944947|          9.2| 2265760|\n",
      "|tt0109830|          8.8| 2239746|\n",
      "|tt0110912|          8.9| 2203191|\n",
      "|tt0903747|          9.5| 2114358|\n",
      "|tt0816692|          8.7| 2073181|\n",
      "|tt0133093|          8.7| 2038364|\n",
      "+---------+-------------+--------+\n",
      "only showing top 10 rows"
     ]
    }
   ],
   "source": []
  },
  {
   "cell_type": "markdown",
   "id": "e77cf460",
   "metadata": {},
   "source": [
    "# Overview of Data"
   ]
  },
  {
   "cell_type": "markdown",
   "id": "2bc943bf",
   "metadata": {},
   "source": [
    "Display the number of rows and columns in each dataFrame object."
   ]
  },
  {
   "cell_type": "code",
   "execution_count": 17,
   "id": "1f6fc252",
   "metadata": {
    "execution": {
     "iopub.execute_input": "2024-12-04T03:00:19.410127Z",
     "iopub.status.busy": "2024-12-04T03:00:19.409801Z",
     "iopub.status.idle": "2024-12-04T03:00:48.778178Z",
     "shell.execute_reply": "2024-12-04T03:00:48.777363Z",
     "shell.execute_reply.started": "2024-12-04T03:00:19.410100Z"
    },
    "tags": []
   },
   "outputs": [
    {
     "data": {
      "application/vnd.jupyter.widget-view+json": {
       "model_id": "e8d423d4048e4b8a9a41bc50dc9c6ac2",
       "version_major": 2,
       "version_minor": 0
      },
      "text/plain": [
       "VBox()"
      ]
     },
     "metadata": {},
     "output_type": "display_data"
    },
    {
     "data": {
      "application/vnd.jupyter.widget-view+json": {
       "model_id": "",
       "version_major": 2,
       "version_minor": 0
      },
      "text/plain": [
       "FloatProgress(value=0.0, bar_style='info', description='Progress:', layout=Layout(height='25px', width='50%'),…"
      ]
     },
     "metadata": {},
     "output_type": "display_data"
    },
    {
     "name": "stdout",
     "output_type": "stream",
     "text": [
      "Number of columns in Name Basics table: 6\n",
      "Number of rows in Name Basics table: 13329316\n",
      "Number of columns in Title Basics table: 8\n",
      "Number of rows in Title Basics table: 10613322\n",
      "Number of columns in Title Principles table: 6\n",
      "Number of rows in Title Principles table: 60833800\n",
      "Number of columns in Title Ratings table: 3\n",
      "Number of rows in Title Ratings table: 1412275"
     ]
    }
   ],
   "source": [
    "print(\"Number of columns in Name Basics table:\", len(name.dtypes))\n",
    "print(\"Number of rows in Name Basics table:\", name.count())\n",
    "\n",
    "print(\"Number of columns in Title Basics table:\", len(titles.dtypes))\n",
    "print(\"Number of rows in Title Basics table:\", titles.count())\n",
    "\n",
    "print(\"Number of columns in Title Principles table:\", len(principles.dtypes))\n",
    "print(\"Number of rows in Title Principles table:\", principles.count())\n",
    "\n",
    "print(\"Number of columns in Title Ratings table:\", len(ratings.dtypes))\n",
    "print(\"Number of rows in Title Ratings table:\", ratings.count())"
   ]
  },
  {
   "cell_type": "code",
   "execution_count": 60,
   "id": "15b35f7a",
   "metadata": {
    "execution": {
     "iopub.execute_input": "2024-11-06T20:32:55.381053Z",
     "iopub.status.busy": "2024-11-06T20:32:55.380722Z",
     "iopub.status.idle": "2024-11-06T20:33:24.753030Z",
     "shell.execute_reply": "2024-11-06T20:33:24.751970Z",
     "shell.execute_reply.started": "2024-11-06T20:32:55.381016Z"
    },
    "tags": []
   },
   "outputs": [
    {
     "data": {
      "application/vnd.jupyter.widget-view+json": {
       "model_id": "77cd1b4264e5469d98bf996b658fa70e",
       "version_major": 2,
       "version_minor": 0
      },
      "text/plain": [
       "VBox()"
      ]
     },
     "metadata": {},
     "output_type": "display_data"
    },
    {
     "data": {
      "application/vnd.jupyter.widget-view+json": {
       "model_id": "",
       "version_major": 2,
       "version_minor": 0
      },
      "text/plain": [
       "FloatProgress(value=0.0, bar_style='info', description='Progress:', layout=Layout(height='25px', width='50%'),…"
      ]
     },
     "metadata": {},
     "output_type": "display_data"
    },
    {
     "name": "stdout",
     "output_type": "stream",
     "text": [
      "Number of columns in Name Basics table: 6\n",
      "Number of rows in Name Basics table: 13329316\n",
      "\n",
      "Number of columns in Title Basics table: 8\n",
      "Number of rows in Title Basics table: 10613322\n",
      "\n",
      "Number of columns in Title Principles table: 6\n",
      "Number of rows in Title Principles table: 60833800\n",
      "\n",
      "Number of columns in Title Ratings table: 3\n",
      "Number of rows in Title Ratings table: 1412275"
     ]
    }
   ],
   "source": []
  },
  {
   "cell_type": "markdown",
   "id": "b45c87a7",
   "metadata": {},
   "source": [
    "# PART 2 - Analyzing Movie Genres"
   ]
  },
  {
   "cell_type": "markdown",
   "id": "37c839bd",
   "metadata": {},
   "source": [
    "Let's now answer this question: how many unique movie genres are represented in this dataset?\n",
    "\n",
    "Essentially, we have the genres per movie as a list - this is useful to quickly see what each movie might be represented as but it is difficult to easily answer questions such as:\n",
    "\n",
    "* How many movies are categorized as Comedy, for instance?\n",
    "* What are the top 20 most popular genres available?"
   ]
  },
  {
   "cell_type": "markdown",
   "id": "509eb185",
   "metadata": {},
   "source": [
    "## Association Table\n",
    "\n",
    "We need to \"break out\" these genres from the tconst? One common approach to take is to build an association table mapping a single tconst multiple times to each distinct genre.\n",
    "\n",
    "For instance, given the following:\n",
    "\n",
    "\n",
    "| tconst   | titleType  |genres |\n",
    "|----------|------------|-------|\n",
    "| abcd123  | XXX        |a,b,c  |\n",
    "\n",
    "We would like to derive something like:\n",
    "\n",
    "| tconst   |  titleType |genre |\n",
    "|----------|------------|------|\n",
    "| abcd123  | XXX        |a     |\n",
    "| abcd123  | XXX        |b     |\n",
    "| abcd123  | XXX        |c     |\n",
    "\n",
    "\n",
    "What this does is allow us to then perform a myriad of rollups and other analysis on this association table which can aid us in answering the questions asked above.\n",
    "\n",
    "Implement the code necessary to derive the table described from the data set"
   ]
  },
  {
   "cell_type": "code",
   "execution_count": 18,
   "id": "cb4b8f51",
   "metadata": {
    "execution": {
     "iopub.execute_input": "2024-12-04T03:01:02.164408Z",
     "iopub.status.busy": "2024-12-04T03:01:02.164103Z",
     "iopub.status.idle": "2024-12-04T03:01:02.416902Z",
     "shell.execute_reply": "2024-12-04T03:01:02.416031Z",
     "shell.execute_reply.started": "2024-12-04T03:01:02.164382Z"
    },
    "tags": []
   },
   "outputs": [
    {
     "data": {
      "application/vnd.jupyter.widget-view+json": {
       "model_id": "9877761d721b4acbb6cc869de35aed1e",
       "version_major": 2,
       "version_minor": 0
      },
      "text/plain": [
       "VBox()"
      ]
     },
     "metadata": {},
     "output_type": "display_data"
    },
    {
     "data": {
      "application/vnd.jupyter.widget-view+json": {
       "model_id": "",
       "version_major": 2,
       "version_minor": 0
      },
      "text/plain": [
       "FloatProgress(value=0.0, bar_style='info', description='Progress:', layout=Layout(height='25px', width='50%'),…"
      ]
     },
     "metadata": {},
     "output_type": "display_data"
    },
    {
     "name": "stdout",
     "output_type": "stream",
     "text": [
      "+---------+---------+------------------------+\n",
      "|tconst   |titleType|genres                  |\n",
      "+---------+---------+------------------------+\n",
      "|tt0000001|short    |Documentary,Short       |\n",
      "|tt0000002|short    |Animation,Short         |\n",
      "|tt0000003|short    |Animation,Comedy,Romance|\n",
      "|tt0000004|short    |Animation,Short         |\n",
      "|tt0000005|short    |Comedy,Short            |\n",
      "|tt0000006|short    |Short                   |\n",
      "|tt0000007|short    |Short,Sport             |\n",
      "|tt0000008|short    |Documentary,Short       |\n",
      "|tt0000009|movie    |Romance                 |\n",
      "|tt0000010|short    |Documentary,Short       |\n",
      "|tt0000011|short    |Documentary,Short       |\n",
      "|tt0000012|short    |Documentary,Short       |\n",
      "|tt0000013|short    |Documentary,Short       |\n",
      "|tt0000014|short    |Comedy,Short            |\n",
      "|tt0000015|short    |Animation,Short         |\n",
      "+---------+---------+------------------------+\n",
      "only showing top 15 rows"
     ]
    }
   ],
   "source": [
    "titles.select(\"tconst\", \"titleType\", \"genres\").show(15, truncate=False)"
   ]
  },
  {
   "cell_type": "code",
   "execution_count": 61,
   "id": "6da24c15",
   "metadata": {
    "execution": {
     "iopub.execute_input": "2024-11-06T20:33:24.754256Z",
     "iopub.status.busy": "2024-11-06T20:33:24.754034Z",
     "iopub.status.idle": "2024-11-06T20:33:25.000963Z",
     "shell.execute_reply": "2024-11-06T20:33:25.000159Z",
     "shell.execute_reply.started": "2024-11-06T20:33:24.754234Z"
    },
    "tags": []
   },
   "outputs": [
    {
     "data": {
      "application/vnd.jupyter.widget-view+json": {
       "model_id": "1058c0181461473c99e4a04bd039e152",
       "version_major": 2,
       "version_minor": 0
      },
      "text/plain": [
       "VBox()"
      ]
     },
     "metadata": {},
     "output_type": "display_data"
    },
    {
     "data": {
      "application/vnd.jupyter.widget-view+json": {
       "model_id": "",
       "version_major": 2,
       "version_minor": 0
      },
      "text/plain": [
       "FloatProgress(value=0.0, bar_style='info', description='Progress:', layout=Layout(height='25px', width='50%'),…"
      ]
     },
     "metadata": {},
     "output_type": "display_data"
    },
    {
     "name": "stdout",
     "output_type": "stream",
     "text": [
      "+---------+---------+------------------------+\n",
      "|tconst   |titleType|genres                  |\n",
      "+---------+---------+------------------------+\n",
      "|tt0000001|short    |Documentary,Short       |\n",
      "|tt0000002|short    |Animation,Short         |\n",
      "|tt0000003|short    |Animation,Comedy,Romance|\n",
      "|tt0000004|short    |Animation,Short         |\n",
      "|tt0000005|short    |Comedy,Short            |\n",
      "|tt0000006|short    |Short                   |\n",
      "|tt0000007|short    |Short,Sport             |\n",
      "|tt0000008|short    |Documentary,Short       |\n",
      "|tt0000009|movie    |Romance                 |\n",
      "|tt0000010|short    |Documentary,Short       |\n",
      "|tt0000011|short    |Documentary,Short       |\n",
      "|tt0000012|short    |Documentary,Short       |\n",
      "|tt0000013|short    |Documentary,Short       |\n",
      "|tt0000014|short    |Comedy,Short            |\n",
      "|tt0000015|short    |Animation,Short         |\n",
      "+---------+---------+------------------------+\n",
      "only showing top 15 rows"
     ]
    }
   ],
   "source": []
  },
  {
   "cell_type": "markdown",
   "id": "7e215c7e",
   "metadata": {},
   "source": [
    "Display the first 25 rows of your association table below"
   ]
  },
  {
   "cell_type": "code",
   "execution_count": 19,
   "id": "a0dd0f6a",
   "metadata": {
    "execution": {
     "iopub.execute_input": "2024-12-04T03:01:21.685412Z",
     "iopub.status.busy": "2024-12-04T03:01:21.685093Z",
     "iopub.status.idle": "2024-12-04T03:01:22.443143Z",
     "shell.execute_reply": "2024-12-04T03:01:22.442204Z",
     "shell.execute_reply.started": "2024-12-04T03:01:21.685384Z"
    },
    "tags": []
   },
   "outputs": [
    {
     "data": {
      "application/vnd.jupyter.widget-view+json": {
       "model_id": "81b2dbc68631472a8903f2cf6f915106",
       "version_major": 2,
       "version_minor": 0
      },
      "text/plain": [
       "VBox()"
      ]
     },
     "metadata": {},
     "output_type": "display_data"
    },
    {
     "data": {
      "application/vnd.jupyter.widget-view+json": {
       "model_id": "",
       "version_major": 2,
       "version_minor": 0
      },
      "text/plain": [
       "FloatProgress(value=0.0, bar_style='info', description='Progress:', layout=Layout(height='25px', width='50%'),…"
      ]
     },
     "metadata": {},
     "output_type": "display_data"
    },
    {
     "name": "stdout",
     "output_type": "stream",
     "text": [
      "+---------+---------+-----------+\n",
      "|tconst   |titleType|Genre      |\n",
      "+---------+---------+-----------+\n",
      "|tt0000001|short    |Documentary|\n",
      "|tt0000001|short    |Short      |\n",
      "|tt0000002|short    |Animation  |\n",
      "|tt0000002|short    |Short      |\n",
      "|tt0000003|short    |Animation  |\n",
      "|tt0000003|short    |Comedy     |\n",
      "|tt0000003|short    |Romance    |\n",
      "|tt0000004|short    |Animation  |\n",
      "|tt0000004|short    |Short      |\n",
      "|tt0000005|short    |Comedy     |\n",
      "|tt0000005|short    |Short      |\n",
      "|tt0000006|short    |Short      |\n",
      "|tt0000007|short    |Short      |\n",
      "|tt0000007|short    |Sport      |\n",
      "|tt0000008|short    |Documentary|\n",
      "|tt0000008|short    |Short      |\n",
      "|tt0000009|movie    |Romance    |\n",
      "|tt0000010|short    |Documentary|\n",
      "|tt0000010|short    |Short      |\n",
      "|tt0000011|short    |Documentary|\n",
      "|tt0000011|short    |Short      |\n",
      "|tt0000012|short    |Documentary|\n",
      "|tt0000012|short    |Short      |\n",
      "|tt0000013|short    |Documentary|\n",
      "|tt0000013|short    |Short      |\n",
      "+---------+---------+-----------+\n",
      "only showing top 25 rows"
     ]
    }
   ],
   "source": [
    "from pyspark.sql.functions import split, col, explode\n",
    "genre=titles.select(\"tconst\", \"titleType\", \"genres\")\\\n",
    "    .withColumn(\"genres\",explode(split(\"genres\",\",\")))\\\n",
    "    .withColumnRenamed('genres', 'Genre')\n",
    "genre.show(25, truncate=False)"
   ]
  },
  {
   "cell_type": "code",
   "execution_count": 62,
   "id": "eee1cc98",
   "metadata": {
    "execution": {
     "iopub.execute_input": "2024-11-06T20:33:25.002250Z",
     "iopub.status.busy": "2024-11-06T20:33:25.002017Z",
     "iopub.status.idle": "2024-11-06T20:33:25.251773Z",
     "shell.execute_reply": "2024-11-06T20:33:25.250891Z",
     "shell.execute_reply.started": "2024-11-06T20:33:25.002227Z"
    },
    "tags": []
   },
   "outputs": [
    {
     "data": {
      "application/vnd.jupyter.widget-view+json": {
       "model_id": "9c6fb42eb4d7494e873540e447466065",
       "version_major": 2,
       "version_minor": 0
      },
      "text/plain": [
       "VBox()"
      ]
     },
     "metadata": {},
     "output_type": "display_data"
    },
    {
     "data": {
      "application/vnd.jupyter.widget-view+json": {
       "model_id": "",
       "version_major": 2,
       "version_minor": 0
      },
      "text/plain": [
       "FloatProgress(value=0.0, bar_style='info', description='Progress:', layout=Layout(height='25px', width='50%'),…"
      ]
     },
     "metadata": {},
     "output_type": "display_data"
    },
    {
     "name": "stdout",
     "output_type": "stream",
     "text": [
      "+---------+---------+-----------+\n",
      "|tconst   |titleType|Genre      |\n",
      "+---------+---------+-----------+\n",
      "|tt0000001|short    |Documentary|\n",
      "|tt0000001|short    |Short      |\n",
      "|tt0000002|short    |Animation  |\n",
      "|tt0000002|short    |Short      |\n",
      "|tt0000003|short    |Animation  |\n",
      "|tt0000003|short    |Comedy     |\n",
      "|tt0000003|short    |Romance    |\n",
      "|tt0000004|short    |Animation  |\n",
      "|tt0000004|short    |Short      |\n",
      "|tt0000005|short    |Comedy     |\n",
      "|tt0000005|short    |Short      |\n",
      "|tt0000006|short    |Short      |\n",
      "|tt0000007|short    |Short      |\n",
      "|tt0000007|short    |Sport      |\n",
      "|tt0000008|short    |Documentary|\n",
      "|tt0000008|short    |Short      |\n",
      "|tt0000009|movie    |Romance    |\n",
      "|tt0000010|short    |Documentary|\n",
      "|tt0000010|short    |Short      |\n",
      "|tt0000011|short    |Documentary|\n",
      "|tt0000011|short    |Short      |\n",
      "|tt0000012|short    |Documentary|\n",
      "|tt0000012|short    |Short      |\n",
      "|tt0000013|short    |Documentary|\n",
      "|tt0000013|short    |Short      |\n",
      "+---------+---------+-----------+\n",
      "only showing top 25 rows"
     ]
    }
   ],
   "source": []
  },
  {
   "cell_type": "markdown",
   "id": "9a80280d",
   "metadata": {},
   "source": [
    "## Total Unique Movie Genres"
   ]
  },
  {
   "cell_type": "markdown",
   "id": "b0db9e0c",
   "metadata": {},
   "source": [
    "What is the total number of unique movie genres?"
   ]
  },
  {
   "cell_type": "code",
   "execution_count": 20,
   "id": "c6016fae",
   "metadata": {
    "execution": {
     "iopub.execute_input": "2024-12-04T03:01:53.803298Z",
     "iopub.status.busy": "2024-12-04T03:01:53.802995Z",
     "iopub.status.idle": "2024-12-04T03:02:07.109499Z",
     "shell.execute_reply": "2024-12-04T03:02:07.108615Z",
     "shell.execute_reply.started": "2024-12-04T03:01:53.803271Z"
    },
    "tags": []
   },
   "outputs": [
    {
     "data": {
      "application/vnd.jupyter.widget-view+json": {
       "model_id": "9f7fcc3dc2c6446d8c9cd1b2a0c0680b",
       "version_major": 2,
       "version_minor": 0
      },
      "text/plain": [
       "VBox()"
      ]
     },
     "metadata": {},
     "output_type": "display_data"
    },
    {
     "data": {
      "application/vnd.jupyter.widget-view+json": {
       "model_id": "",
       "version_major": 2,
       "version_minor": 0
      },
      "text/plain": [
       "FloatProgress(value=0.0, bar_style='info', description='Progress:', layout=Layout(height='25px', width='50%'),…"
      ]
     },
     "metadata": {},
     "output_type": "display_data"
    },
    {
     "name": "stdout",
     "output_type": "stream",
     "text": [
      "29"
     ]
    }
   ],
   "source": [
    "from pyspark.sql.functions import countDistinct\n",
    "genre.filter(genre.titleType == \"movie\").select(countDistinct(\"Genre\")).collect()[0][0]"
   ]
  },
  {
   "cell_type": "code",
   "execution_count": 63,
   "id": "c6044252",
   "metadata": {
    "execution": {
     "iopub.execute_input": "2024-11-06T20:33:25.253101Z",
     "iopub.status.busy": "2024-11-06T20:33:25.252848Z",
     "iopub.status.idle": "2024-11-06T20:33:36.557512Z",
     "shell.execute_reply": "2024-11-06T20:33:36.556681Z",
     "shell.execute_reply.started": "2024-11-06T20:33:25.253074Z"
    },
    "tags": []
   },
   "outputs": [
    {
     "data": {
      "application/vnd.jupyter.widget-view+json": {
       "model_id": "df76f5f510fb4516ab185cdd48a3bb5f",
       "version_major": 2,
       "version_minor": 0
      },
      "text/plain": [
       "VBox()"
      ]
     },
     "metadata": {},
     "output_type": "display_data"
    },
    {
     "data": {
      "application/vnd.jupyter.widget-view+json": {
       "model_id": "",
       "version_major": 2,
       "version_minor": 0
      },
      "text/plain": [
       "FloatProgress(value=0.0, bar_style='info', description='Progress:', layout=Layout(height='25px', width='50%'),…"
      ]
     },
     "metadata": {},
     "output_type": "display_data"
    },
    {
     "name": "stdout",
     "output_type": "stream",
     "text": [
      "29"
     ]
    }
   ],
   "source": []
  },
  {
   "cell_type": "markdown",
   "id": "5819adcc",
   "metadata": {},
   "source": [
    "What are the unique movie genres?"
   ]
  },
  {
   "cell_type": "code",
   "execution_count": 21,
   "id": "72e609aa",
   "metadata": {
    "execution": {
     "iopub.execute_input": "2024-12-04T03:02:15.810015Z",
     "iopub.status.busy": "2024-12-04T03:02:15.809659Z",
     "iopub.status.idle": "2024-12-04T03:02:27.138855Z",
     "shell.execute_reply": "2024-12-04T03:02:27.138094Z",
     "shell.execute_reply.started": "2024-12-04T03:02:15.809987Z"
    },
    "tags": []
   },
   "outputs": [
    {
     "data": {
      "application/vnd.jupyter.widget-view+json": {
       "model_id": "40aa0dfc7dfd44b8a532ac07d4501a7b",
       "version_major": 2,
       "version_minor": 0
      },
      "text/plain": [
       "VBox()"
      ]
     },
     "metadata": {},
     "output_type": "display_data"
    },
    {
     "data": {
      "application/vnd.jupyter.widget-view+json": {
       "model_id": "",
       "version_major": 2,
       "version_minor": 0
      },
      "text/plain": [
       "FloatProgress(value=0.0, bar_style='info', description='Progress:', layout=Layout(height='25px', width='50%'),…"
      ]
     },
     "metadata": {},
     "output_type": "display_data"
    },
    {
     "name": "stdout",
     "output_type": "stream",
     "text": [
      "+-----------+\n",
      "|Genre      |\n",
      "+-----------+\n",
      "|Mystery    |\n",
      "|Musical    |\n",
      "|Sport      |\n",
      "|Action     |\n",
      "|Talk-Show  |\n",
      "|Romance    |\n",
      "|Thriller   |\n",
      "|\\N         |\n",
      "|Reality-TV |\n",
      "|Family     |\n",
      "|Fantasy    |\n",
      "|History    |\n",
      "|Animation  |\n",
      "|Film-Noir  |\n",
      "|Short      |\n",
      "|Sci-Fi     |\n",
      "|News       |\n",
      "|Drama      |\n",
      "|Documentary|\n",
      "|Western    |\n",
      "|Comedy     |\n",
      "|Crime      |\n",
      "|War        |\n",
      "|Game-Show  |\n",
      "|Adult      |\n",
      "|Music      |\n",
      "|Biography  |\n",
      "|Adventure  |\n",
      "|Horror     |\n",
      "+-----------+"
     ]
    }
   ],
   "source": [
    "genre.filter(genre.titleType == \"movie\").select(\"Genre\").distinct().show(29, truncate=False)"
   ]
  },
  {
   "cell_type": "code",
   "execution_count": 64,
   "id": "2ecdf3ad",
   "metadata": {
    "execution": {
     "iopub.execute_input": "2024-11-06T20:33:36.558992Z",
     "iopub.status.busy": "2024-11-06T20:33:36.558640Z",
     "iopub.status.idle": "2024-11-06T20:33:47.851040Z",
     "shell.execute_reply": "2024-11-06T20:33:47.850134Z",
     "shell.execute_reply.started": "2024-11-06T20:33:36.558956Z"
    },
    "tags": []
   },
   "outputs": [
    {
     "data": {
      "application/vnd.jupyter.widget-view+json": {
       "model_id": "04266d45d26643908c55ca6e2a30fac8",
       "version_major": 2,
       "version_minor": 0
      },
      "text/plain": [
       "VBox()"
      ]
     },
     "metadata": {},
     "output_type": "display_data"
    },
    {
     "data": {
      "application/vnd.jupyter.widget-view+json": {
       "model_id": "",
       "version_major": 2,
       "version_minor": 0
      },
      "text/plain": [
       "FloatProgress(value=0.0, bar_style='info', description='Progress:', layout=Layout(height='25px', width='50%'),…"
      ]
     },
     "metadata": {},
     "output_type": "display_data"
    },
    {
     "name": "stdout",
     "output_type": "stream",
     "text": [
      "+-----------+\n",
      "|genre      |\n",
      "+-----------+\n",
      "|Mystery    |\n",
      "|Musical    |\n",
      "|Sport      |\n",
      "|Action     |\n",
      "|Talk-Show  |\n",
      "|Romance    |\n",
      "|Thriller   |\n",
      "|\\N         |\n",
      "|Reality-TV |\n",
      "|Family     |\n",
      "|Fantasy    |\n",
      "|History    |\n",
      "|Animation  |\n",
      "|Film-Noir  |\n",
      "|Short      |\n",
      "|Sci-Fi     |\n",
      "|News       |\n",
      "|Drama      |\n",
      "|Documentary|\n",
      "|Western    |\n",
      "|Comedy     |\n",
      "|Crime      |\n",
      "|War        |\n",
      "|Game-Show  |\n",
      "|Adult      |\n",
      "|Music      |\n",
      "|Biography  |\n",
      "|Adventure  |\n",
      "|Horror     |\n",
      "+-----------+"
     ]
    }
   ],
   "source": []
  },
  {
   "cell_type": "markdown",
   "id": "4c5f3022",
   "metadata": {},
   "source": [
    "Oops! Something is off!"
   ]
  },
  {
   "cell_type": "code",
   "execution_count": 22,
   "id": "956ffbb6",
   "metadata": {
    "execution": {
     "iopub.execute_input": "2024-12-04T03:02:35.732143Z",
     "iopub.status.busy": "2024-12-04T03:02:35.731816Z",
     "iopub.status.idle": "2024-12-04T03:02:49.035257Z",
     "shell.execute_reply": "2024-12-04T03:02:49.034509Z",
     "shell.execute_reply.started": "2024-12-04T03:02:35.732116Z"
    },
    "tags": []
   },
   "outputs": [
    {
     "data": {
      "application/vnd.jupyter.widget-view+json": {
       "model_id": "c2104a2a16954bed9a00178fb5ff35f3",
       "version_major": 2,
       "version_minor": 0
      },
      "text/plain": [
       "VBox()"
      ]
     },
     "metadata": {},
     "output_type": "display_data"
    },
    {
     "data": {
      "application/vnd.jupyter.widget-view+json": {
       "model_id": "",
       "version_major": 2,
       "version_minor": 0
      },
      "text/plain": [
       "FloatProgress(value=0.0, bar_style='info', description='Progress:', layout=Layout(height='25px', width='50%'),…"
      ]
     },
     "metadata": {},
     "output_type": "display_data"
    },
    {
     "name": "stdout",
     "output_type": "stream",
     "text": [
      "+-----------+\n",
      "|Genre      |\n",
      "+-----------+\n",
      "|Mystery    |\n",
      "|Musical    |\n",
      "|Sport      |\n",
      "|Action     |\n",
      "|Talk-Show  |\n",
      "|Romance    |\n",
      "|Thriller   |\n",
      "|Reality-TV |\n",
      "|Family     |\n",
      "|Fantasy    |\n",
      "|History    |\n",
      "|Animation  |\n",
      "|Film-Noir  |\n",
      "|Short      |\n",
      "|Sci-Fi     |\n",
      "|News       |\n",
      "|Drama      |\n",
      "|Documentary|\n",
      "|Western    |\n",
      "|Comedy     |\n",
      "|Crime      |\n",
      "|War        |\n",
      "|Game-Show  |\n",
      "|Adult      |\n",
      "|Music      |\n",
      "|Biography  |\n",
      "|Adventure  |\n",
      "|Horror     |\n",
      "+-----------+"
     ]
    }
   ],
   "source": [
    "from pyspark.sql.functions import col\n",
    "nll = '\\\\N'\n",
    "genre.filter(genre.titleType == \"movie\")\\\n",
    "    .select(\"Genre\").distinct().filter(col(\"Genre\") != nll).show(29, truncate=False)"
   ]
  },
  {
   "cell_type": "code",
   "execution_count": 65,
   "id": "e699b5ae",
   "metadata": {
    "execution": {
     "iopub.execute_input": "2024-11-06T20:33:47.855119Z",
     "iopub.status.busy": "2024-11-06T20:33:47.854538Z",
     "iopub.status.idle": "2024-11-06T20:33:59.180456Z",
     "shell.execute_reply": "2024-11-06T20:33:59.179721Z",
     "shell.execute_reply.started": "2024-11-06T20:33:47.855080Z"
    },
    "tags": []
   },
   "outputs": [
    {
     "data": {
      "application/vnd.jupyter.widget-view+json": {
       "model_id": "53996f949b9441d18c5cd6ef31495157",
       "version_major": 2,
       "version_minor": 0
      },
      "text/plain": [
       "VBox()"
      ]
     },
     "metadata": {},
     "output_type": "display_data"
    },
    {
     "data": {
      "application/vnd.jupyter.widget-view+json": {
       "model_id": "",
       "version_major": 2,
       "version_minor": 0
      },
      "text/plain": [
       "FloatProgress(value=0.0, bar_style='info', description='Progress:', layout=Layout(height='25px', width='50%'),…"
      ]
     },
     "metadata": {},
     "output_type": "display_data"
    },
    {
     "name": "stdout",
     "output_type": "stream",
     "text": [
      "+-----------+\n",
      "|genre      |\n",
      "+-----------+\n",
      "|Mystery    |\n",
      "|Musical    |\n",
      "|Sport      |\n",
      "|Action     |\n",
      "|Talk-Show  |\n",
      "|Romance    |\n",
      "|Thriller   |\n",
      "|Reality-TV |\n",
      "|Family     |\n",
      "|Fantasy    |\n",
      "|History    |\n",
      "|Animation  |\n",
      "|Film-Noir  |\n",
      "|Short      |\n",
      "|Sci-Fi     |\n",
      "|News       |\n",
      "|Drama      |\n",
      "|Documentary|\n",
      "|Western    |\n",
      "|Comedy     |\n",
      "|Crime      |\n",
      "|War        |\n",
      "|Game-Show  |\n",
      "|Adult      |\n",
      "|Music      |\n",
      "|Biography  |\n",
      "|Adventure  |\n",
      "|Horror     |\n",
      "+-----------+"
     ]
    }
   ],
   "source": []
  },
  {
   "cell_type": "markdown",
   "id": "b7d29ebd",
   "metadata": {},
   "source": [
    "## Top Genres by Movies\n",
    "\n",
    "Now let's find the highest rated genres in this dataset by rolling up genres."
   ]
  },
  {
   "cell_type": "markdown",
   "id": "de4c28e3",
   "metadata": {},
   "source": [
    "### Average Rating / Genre"
   ]
  },
  {
   "cell_type": "markdown",
   "id": "49f1153c",
   "metadata": {},
   "source": [
    "So now, let's unroll our distinct count a bit and display the per average rating value of per genre.\n",
    "\n",
    "The expected output should be:\n",
    "\n",
    "| genre | averageRating |\n",
    "|-------------|------------|\n",
    "| a     | 8.5         |\n",
    "| b     | 6.3         |\n",
    "| c     | 7.2         |\n",
    "\n",
    "Or something to that effect."
   ]
  },
  {
   "cell_type": "markdown",
   "id": "15423dc6",
   "metadata": {},
   "source": [
    "First, let's join our two dataframes (title ratings and title basics) by tconst. Use inner join."
   ]
  },
  {
   "cell_type": "code",
   "execution_count": 23,
   "id": "be5978e1",
   "metadata": {
    "execution": {
     "iopub.execute_input": "2024-12-04T03:03:06.909606Z",
     "iopub.status.busy": "2024-12-04T03:03:06.909296Z",
     "iopub.status.idle": "2024-12-04T03:03:20.223766Z",
     "shell.execute_reply": "2024-12-04T03:03:20.222878Z",
     "shell.execute_reply.started": "2024-12-04T03:03:06.909579Z"
    },
    "tags": []
   },
   "outputs": [
    {
     "data": {
      "application/vnd.jupyter.widget-view+json": {
       "model_id": "fc35184fd62247a0b93dd0aa3f614561",
       "version_major": 2,
       "version_minor": 0
      },
      "text/plain": [
       "VBox()"
      ]
     },
     "metadata": {},
     "output_type": "display_data"
    },
    {
     "data": {
      "application/vnd.jupyter.widget-view+json": {
       "model_id": "",
       "version_major": 2,
       "version_minor": 0
      },
      "text/plain": [
       "FloatProgress(value=0.0, bar_style='info', description='Progress:', layout=Layout(height='25px', width='50%'),…"
      ]
     },
     "metadata": {},
     "output_type": "display_data"
    },
    {
     "name": "stdout",
     "output_type": "stream",
     "text": [
      "+---------+-------------+\n",
      "|    Genre|averageRating|\n",
      "+---------+-------------+\n",
      "|    Drama|          4.2|\n",
      "|    Drama|          4.5|\n",
      "|Biography|          3.6|\n",
      "|    Drama|          3.6|\n",
      "|  History|          3.6|\n",
      "|    Drama|          6.0|\n",
      "|    Drama|          5.0|\n",
      "|  History|          5.0|\n",
      "|Biography|          6.2|\n",
      "|    Drama|          6.2|\n",
      "+---------+-------------+\n",
      "only showing top 10 rows"
     ]
    }
   ],
   "source": [
    "ratings=ratings.withColumn(\"averageRating\", col(\"averageRating\").cast(\"float\"))\n",
    "nll = '\\\\N'\n",
    "joined_genre=ratings.join(titles, on='tconst', how='inner')\\\n",
    "    .select(\"genres\", \"averageRating\")\\\n",
    "    .withColumn('genres',explode(split('genres',\",\")))\\\n",
    "    .withColumnRenamed('genres', 'Genre')\\\n",
    "    .filter((col(\"genres\") != nll) & (titles.titleType == \"movie\"))\n",
    "joined_genre.show(10)"
   ]
  },
  {
   "cell_type": "code",
   "execution_count": 66,
   "id": "71b5d21b",
   "metadata": {
    "execution": {
     "iopub.execute_input": "2024-11-06T20:33:59.181829Z",
     "iopub.status.busy": "2024-11-06T20:33:59.181590Z",
     "iopub.status.idle": "2024-11-06T20:34:12.478957Z",
     "shell.execute_reply": "2024-11-06T20:34:12.478268Z",
     "shell.execute_reply.started": "2024-11-06T20:33:59.181805Z"
    },
    "tags": []
   },
   "outputs": [
    {
     "data": {
      "application/vnd.jupyter.widget-view+json": {
       "model_id": "4fe76430132441528ac9eef7b4d523e6",
       "version_major": 2,
       "version_minor": 0
      },
      "text/plain": [
       "VBox()"
      ]
     },
     "metadata": {},
     "output_type": "display_data"
    },
    {
     "data": {
      "application/vnd.jupyter.widget-view+json": {
       "model_id": "",
       "version_major": 2,
       "version_minor": 0
      },
      "text/plain": [
       "FloatProgress(value=0.0, bar_style='info', description='Progress:', layout=Layout(height='25px', width='50%'),…"
      ]
     },
     "metadata": {},
     "output_type": "display_data"
    },
    {
     "name": "stdout",
     "output_type": "stream",
     "text": [
      "+---------+-------------+\n",
      "|    Genre|averageRating|\n",
      "+---------+-------------+\n",
      "|    Drama|          4.2|\n",
      "|    Drama|          4.5|\n",
      "|Biography|          3.6|\n",
      "|    Drama|          3.6|\n",
      "|  History|          3.6|\n",
      "|    Drama|          6.0|\n",
      "|    Drama|          5.0|\n",
      "|  History|          5.0|\n",
      "|Biography|          6.2|\n",
      "|    Drama|          6.2|\n",
      "+---------+-------------+\n",
      "only showing top 10 rows"
     ]
    }
   ],
   "source": []
  },
  {
   "cell_type": "markdown",
   "id": "98094ca8",
   "metadata": {},
   "source": [
    "Now, let's aggregate along the averageRating column to get a resultant dataframe that displays average rating per genre."
   ]
  },
  {
   "cell_type": "code",
   "execution_count": 24,
   "id": "06664bff",
   "metadata": {
    "execution": {
     "iopub.execute_input": "2024-12-04T03:04:14.691786Z",
     "iopub.status.busy": "2024-12-04T03:04:14.691357Z",
     "iopub.status.idle": "2024-12-04T03:04:30.031377Z",
     "shell.execute_reply": "2024-12-04T03:04:30.030495Z",
     "shell.execute_reply.started": "2024-12-04T03:04:14.691745Z"
    },
    "tags": []
   },
   "outputs": [
    {
     "data": {
      "application/vnd.jupyter.widget-view+json": {
       "model_id": "bb814d93c0dc452fa079b7de723051d5",
       "version_major": 2,
       "version_minor": 0
      },
      "text/plain": [
       "VBox()"
      ]
     },
     "metadata": {},
     "output_type": "display_data"
    },
    {
     "data": {
      "application/vnd.jupyter.widget-view+json": {
       "model_id": "",
       "version_major": 2,
       "version_minor": 0
      },
      "text/plain": [
       "FloatProgress(value=0.0, bar_style='info', description='Progress:', layout=Layout(height='25px', width='50%'),…"
      ]
     },
     "metadata": {},
     "output_type": "display_data"
    },
    {
     "name": "stdout",
     "output_type": "stream",
     "text": [
      "+-----------+------+\n",
      "|Genre      |Rating|\n",
      "+-----------+------+\n",
      "|Mystery    |5.847 |\n",
      "|Musical    |6.187 |\n",
      "|Action     |5.732 |\n",
      "|Sport      |6.623 |\n",
      "|Talk-Show  |6.858 |\n",
      "|Romance    |6.102 |\n",
      "|Thriller   |5.613 |\n",
      "|Reality-TV |6.701 |\n",
      "|Family     |6.205 |\n",
      "|Fantasy    |5.898 |\n",
      "|History    |6.798 |\n",
      "|Animation  |6.367 |\n",
      "|Film-Noir  |6.463 |\n",
      "|Sci-Fi     |5.353 |\n",
      "|News       |7.203 |\n",
      "|Drama      |6.248 |\n",
      "|Documentary|7.216 |\n",
      "|Western    |5.84  |\n",
      "|Comedy     |5.906 |\n",
      "|Crime      |5.985 |\n",
      "+-----------+------+\n",
      "only showing top 20 rows"
     ]
    }
   ],
   "source": [
    "from pyspark.sql.functions import mean, round\n",
    "joined_genre.groupBy(\"Genre\").agg(\n",
    "        round(mean('averageRating'),3).alias(\"Rating\")).show(truncate=False)"
   ]
  },
  {
   "cell_type": "code",
   "execution_count": 67,
   "id": "317c522c",
   "metadata": {
    "execution": {
     "iopub.execute_input": "2024-11-06T20:34:12.480280Z",
     "iopub.status.busy": "2024-11-06T20:34:12.480021Z",
     "iopub.status.idle": "2024-11-06T20:34:25.776433Z",
     "shell.execute_reply": "2024-11-06T20:34:25.775631Z",
     "shell.execute_reply.started": "2024-11-06T20:34:12.480255Z"
    },
    "tags": []
   },
   "outputs": [
    {
     "data": {
      "application/vnd.jupyter.widget-view+json": {
       "model_id": "ec1439af676f41eab0b65ce521c26fd2",
       "version_major": 2,
       "version_minor": 0
      },
      "text/plain": [
       "VBox()"
      ]
     },
     "metadata": {},
     "output_type": "display_data"
    },
    {
     "data": {
      "application/vnd.jupyter.widget-view+json": {
       "model_id": "",
       "version_major": 2,
       "version_minor": 0
      },
      "text/plain": [
       "FloatProgress(value=0.0, bar_style='info', description='Progress:', layout=Layout(height='25px', width='50%'),…"
      ]
     },
     "metadata": {},
     "output_type": "display_data"
    },
    {
     "name": "stdout",
     "output_type": "stream",
     "text": [
      "+-----------+------+\n",
      "|Genre      |Rating|\n",
      "+-----------+------+\n",
      "|Mystery    |5.847 |\n",
      "|Musical    |6.187 |\n",
      "|Action     |5.732 |\n",
      "|Sport      |6.623 |\n",
      "|Talk-Show  |6.858 |\n",
      "|Romance    |6.102 |\n",
      "|Thriller   |5.613 |\n",
      "|Reality-TV |6.701 |\n",
      "|Family     |6.205 |\n",
      "|Fantasy    |5.898 |\n",
      "|History    |6.798 |\n",
      "|Animation  |6.367 |\n",
      "|Film-Noir  |6.463 |\n",
      "|Sci-Fi     |5.353 |\n",
      "|News       |7.203 |\n",
      "|Drama      |6.248 |\n",
      "|Documentary|7.216 |\n",
      "|Western    |5.84  |\n",
      "|Comedy     |5.906 |\n",
      "|Crime      |5.985 |\n",
      "+-----------+------+\n",
      "only showing top 20 rows"
     ]
    }
   ],
   "source": []
  },
  {
   "cell_type": "markdown",
   "id": "b1fd4e61",
   "metadata": {},
   "source": [
    "### Horizontal Bar Chart of Top Genres\n",
    "\n",
    "With this data available, let us now build a barchart of all genres \n",
    "\n",
    "**HINT**: don't forget about the matplotlib magic!\n",
    "\n",
    "```\n",
    "%matplot plt\n",
    "```"
   ]
  },
  {
   "cell_type": "code",
   "execution_count": 25,
   "id": "443b42e3",
   "metadata": {
    "execution": {
     "iopub.execute_input": "2024-12-04T03:04:51.664899Z",
     "iopub.status.busy": "2024-12-04T03:04:51.664576Z",
     "iopub.status.idle": "2024-12-04T03:05:06.982149Z",
     "shell.execute_reply": "2024-12-04T03:05:06.981307Z",
     "shell.execute_reply.started": "2024-12-04T03:04:51.664873Z"
    },
    "tags": []
   },
   "outputs": [
    {
     "data": {
      "application/vnd.jupyter.widget-view+json": {
       "model_id": "9223a96fb2d44431a5f47e593840bbe8",
       "version_major": 2,
       "version_minor": 0
      },
      "text/plain": [
       "VBox()"
      ]
     },
     "metadata": {},
     "output_type": "display_data"
    },
    {
     "data": {
      "application/vnd.jupyter.widget-view+json": {
       "model_id": "",
       "version_major": 2,
       "version_minor": 0
      },
      "text/plain": [
       "FloatProgress(value=0.0, bar_style='info', description='Progress:', layout=Layout(height='25px', width='50%'),…"
      ]
     },
     "metadata": {},
     "output_type": "display_data"
    },
    {
     "name": "stdout",
     "output_type": "stream",
     "text": [
      "+-----------+------+\n",
      "|Genre      |Rating|\n",
      "+-----------+------+\n",
      "|Documentary|7.216 |\n",
      "|News       |7.203 |\n",
      "|Biography  |6.951 |\n",
      "|Game-Show  |6.88  |\n",
      "|Talk-Show  |6.858 |\n",
      "|History    |6.798 |\n",
      "|Music      |6.755 |\n",
      "|Reality-TV |6.701 |\n",
      "|Sport      |6.623 |\n",
      "|Film-Noir  |6.463 |\n",
      "|War        |6.403 |\n",
      "|Animation  |6.367 |\n",
      "|Drama      |6.248 |\n",
      "|Family     |6.205 |\n",
      "|Musical    |6.187 |\n",
      "|Romance    |6.102 |\n",
      "|Crime      |5.985 |\n",
      "|Comedy     |5.906 |\n",
      "|Fantasy    |5.898 |\n",
      "|Adventure  |5.866 |\n",
      "|Mystery    |5.847 |\n",
      "|Western    |5.84  |\n",
      "|Action     |5.732 |\n",
      "|Thriller   |5.613 |\n",
      "|Adult      |5.554 |\n",
      "|Sci-Fi     |5.353 |\n",
      "|Horror     |5.002 |\n",
      "|Short      |5.0   |\n",
      "+-----------+------+"
     ]
    }
   ],
   "source": [
    "from pyspark.sql.functions import mean, round\n",
    "genre_rating=joined_genre.groupBy(\"Genre\").agg(\n",
    "        round(mean('averageRating'),3).alias(\"Rating\")).sort(col(\"Rating\").desc())\n",
    "genre_rating.show(29, truncate=False)"
   ]
  },
  {
   "cell_type": "code",
   "execution_count": 68,
   "id": "2865ccdb",
   "metadata": {
    "execution": {
     "iopub.execute_input": "2024-11-06T20:34:45.802756Z",
     "iopub.status.busy": "2024-11-06T20:34:45.802432Z",
     "iopub.status.idle": "2024-11-06T20:34:59.120379Z",
     "shell.execute_reply": "2024-11-06T20:34:59.118544Z",
     "shell.execute_reply.started": "2024-11-06T20:34:45.802730Z"
    },
    "tags": []
   },
   "outputs": [
    {
     "data": {
      "application/vnd.jupyter.widget-view+json": {
       "model_id": "df0d14eaefc14fc9a28a98ced4cef335",
       "version_major": 2,
       "version_minor": 0
      },
      "text/plain": [
       "VBox()"
      ]
     },
     "metadata": {},
     "output_type": "display_data"
    },
    {
     "data": {
      "application/vnd.jupyter.widget-view+json": {
       "model_id": "",
       "version_major": 2,
       "version_minor": 0
      },
      "text/plain": [
       "FloatProgress(value=0.0, bar_style='info', description='Progress:', layout=Layout(height='25px', width='50%'),…"
      ]
     },
     "metadata": {},
     "output_type": "display_data"
    },
    {
     "name": "stdout",
     "output_type": "stream",
     "text": [
      "+-----------+------+\n",
      "|Genre      |Rating|\n",
      "+-----------+------+\n",
      "|Documentary|7.216 |\n",
      "|News       |7.203 |\n",
      "|Biography  |6.951 |\n",
      "|Game-Show  |6.88  |\n",
      "|Talk-Show  |6.858 |\n",
      "|History    |6.798 |\n",
      "|Music      |6.755 |\n",
      "|Reality-TV |6.701 |\n",
      "|Sport      |6.623 |\n",
      "|Film-Noir  |6.463 |\n",
      "|War        |6.403 |\n",
      "|Animation  |6.367 |\n",
      "|Drama      |6.248 |\n",
      "|Family     |6.205 |\n",
      "|Musical    |6.187 |\n",
      "|Romance    |6.102 |\n",
      "|Crime      |5.985 |\n",
      "|Comedy     |5.906 |\n",
      "|Fantasy    |5.898 |\n",
      "|Adventure  |5.866 |\n",
      "|Mystery    |5.847 |\n",
      "|Western    |5.84  |\n",
      "|Action     |5.732 |\n",
      "|Thriller   |5.613 |\n",
      "|Adult      |5.554 |\n",
      "|Sci-Fi     |5.353 |\n",
      "|Horror     |5.002 |\n",
      "|Short      |5.0   |\n",
      "+-----------+------+"
     ]
    }
   ],
   "source": []
  },
  {
   "cell_type": "markdown",
   "id": "42322761-4cc2-47ee-a8a7-a0093a0e955a",
   "metadata": {},
   "source": [
    "You do not have to match the color and the figure size but all other aspects of the graph should be matched."
   ]
  },
  {
   "cell_type": "code",
   "execution_count": 28,
   "id": "77728847",
   "metadata": {
    "execution": {
     "iopub.execute_input": "2024-12-04T03:08:21.508501Z",
     "iopub.status.busy": "2024-12-04T03:08:21.508201Z",
     "iopub.status.idle": "2024-12-04T03:08:36.851549Z",
     "shell.execute_reply": "2024-12-04T03:08:36.850684Z",
     "shell.execute_reply.started": "2024-12-04T03:08:21.508476Z"
    },
    "tags": []
   },
   "outputs": [
    {
     "data": {
      "application/vnd.jupyter.widget-view+json": {
       "model_id": "0401065fff9b4229b8f35c1af1065bd6",
       "version_major": 2,
       "version_minor": 0
      },
      "text/plain": [
       "VBox()"
      ]
     },
     "metadata": {},
     "output_type": "display_data"
    },
    {
     "data": {
      "application/vnd.jupyter.widget-view+json": {
       "model_id": "",
       "version_major": 2,
       "version_minor": 0
      },
      "text/plain": [
       "FloatProgress(value=0.0, bar_style='info', description='Progress:', layout=Layout(height='25px', width='50%'),…"
      ]
     },
     "metadata": {},
     "output_type": "display_data"
    },
    {
     "data": {
      "image/png": "[encoded data removed]",
      "text/plain": [
       "<IPython.core.display.Image object>"
      ]
     },
     "metadata": {},
     "output_type": "display_data"
    }
   ],
   "source": [
    "genre_rating=genre_rating.sort(col(\"Rating\").asc())\n",
    "import matplotlib.pyplot as plt\n",
    "genre_rating.toPandas().plot.barh(x='Genre', y='Rating', color='purple', figsize=(12, 8))\n",
    "plt.xlim(4.5, None)\n",
    "plt.xlabel('Rating')\n",
    "plt.ylabel('Genre')\n",
    "plt.title('Top Genres in the Movie Category')\n",
    "%matplot plt"
   ]
  },
  {
   "cell_type": "code",
   "execution_count": 70,
   "id": "4a868d3d",
   "metadata": {
    "execution": {
     "iopub.execute_input": "2024-11-06T20:35:29.112510Z",
     "iopub.status.busy": "2024-11-06T20:35:29.112203Z",
     "iopub.status.idle": "2024-11-06T20:35:29.876936Z",
     "shell.execute_reply": "2024-11-06T20:35:29.875867Z",
     "shell.execute_reply.started": "2024-11-06T20:35:29.112485Z"
    },
    "tags": []
   },
   "outputs": [
    {
     "data": {
      "application/vnd.jupyter.widget-view+json": {
       "model_id": "a64e71cfd67d47f0ac9eda7ca089deab",
       "version_major": 2,
       "version_minor": 0
      },
      "text/plain": [
       "VBox()"
      ]
     },
     "metadata": {},
     "output_type": "display_data"
    },
    {
     "data": {
      "application/vnd.jupyter.widget-view+json": {
       "model_id": "",
       "version_major": 2,
       "version_minor": 0
      },
      "text/plain": [
       "FloatProgress(value=0.0, bar_style='info', description='Progress:', layout=Layout(height='25px', width='50%'),…"
      ]
     },
     "metadata": {},
     "output_type": "display_data"
    },
    {
     "data": {
      "image/png": "[encoded data removed]",
      "text/plain": [
       "<IPython.core.display.Image object>"
      ]
     },
     "metadata": {},
     "output_type": "display_data"
    }
   ],
   "source": []
  },
  {
   "cell_type": "markdown",
   "id": "3671c612",
   "metadata": {},
   "source": [
    "## PART 3 - Analyzing Job Categories"
   ]
  },
  {
   "cell_type": "markdown",
   "id": "2912a0ba",
   "metadata": {},
   "source": [
    "## Total Unique Job Categories"
   ]
  },
  {
   "cell_type": "markdown",
   "id": "099531c0",
   "metadata": {},
   "source": [
    "What is the total number of unique job categories?"
   ]
  },
  {
   "cell_type": "code",
   "execution_count": 29,
   "id": "706620e5",
   "metadata": {
    "execution": {
     "iopub.execute_input": "2024-12-04T03:09:34.644886Z",
     "iopub.status.busy": "2024-12-04T03:09:34.644577Z",
     "iopub.status.idle": "2024-12-04T03:09:34.892557Z",
     "shell.execute_reply": "2024-12-04T03:09:34.891725Z",
     "shell.execute_reply.started": "2024-12-04T03:09:34.644862Z"
    },
    "tags": []
   },
   "outputs": [
    {
     "data": {
      "application/vnd.jupyter.widget-view+json": {
       "model_id": "b7dd8e7641214ec5a388bb4066025c9d",
       "version_major": 2,
       "version_minor": 0
      },
      "text/plain": [
       "VBox()"
      ]
     },
     "metadata": {},
     "output_type": "display_data"
    },
    {
     "data": {
      "application/vnd.jupyter.widget-view+json": {
       "model_id": "",
       "version_major": 2,
       "version_minor": 0
      },
      "text/plain": [
       "FloatProgress(value=0.0, bar_style='info', description='Progress:', layout=Layout(height='25px', width='50%'),…"
      ]
     },
     "metadata": {},
     "output_type": "display_data"
    },
    {
     "name": "stdout",
     "output_type": "stream",
     "text": [
      "+---------+---------------+\n",
      "|tconst   |category       |\n",
      "+---------+---------------+\n",
      "|tt0000001|self           |\n",
      "|tt0000001|director       |\n",
      "|tt0000001|cinematographer|\n",
      "|tt0000002|director       |\n",
      "|tt0000002|composer       |\n",
      "|tt0000003|director       |\n",
      "|tt0000003|producer       |\n",
      "|tt0000003|composer       |\n",
      "|tt0000003|editor         |\n",
      "|tt0000004|director       |\n",
      "|tt0000004|composer       |\n",
      "|tt0000005|actor          |\n",
      "|tt0000005|actor          |\n",
      "|tt0000005|director       |\n",
      "|tt0000005|producer       |\n",
      "|tt0000006|director       |\n",
      "|tt0000007|actor          |\n",
      "|tt0000007|actor          |\n",
      "|tt0000007|director       |\n",
      "|tt0000007|director       |\n",
      "|tt0000007|producer       |\n",
      "|tt0000008|actor          |\n",
      "|tt0000008|director       |\n",
      "|tt0000008|cinematographer|\n",
      "|tt0000009|actress        |\n",
      "|tt0000009|actor          |\n",
      "|tt0000009|actor          |\n",
      "|tt0000009|director       |\n",
      "|tt0000010|director       |\n",
      "|tt0000011|actor          |\n",
      "+---------+---------------+\n",
      "only showing top 30 rows"
     ]
    }
   ],
   "source": [
    "principles.select('tconst', 'category').show(30, truncate=False)"
   ]
  },
  {
   "cell_type": "code",
   "execution_count": 71,
   "id": "bf5ea336",
   "metadata": {
    "execution": {
     "iopub.execute_input": "2024-11-06T20:35:41.031926Z",
     "iopub.status.busy": "2024-11-06T20:35:41.031626Z",
     "iopub.status.idle": "2024-11-06T20:35:41.277723Z",
     "shell.execute_reply": "2024-11-06T20:35:41.277018Z",
     "shell.execute_reply.started": "2024-11-06T20:35:41.031901Z"
    },
    "tags": []
   },
   "outputs": [
    {
     "data": {
      "application/vnd.jupyter.widget-view+json": {
       "model_id": "28f98b732a4c470196784dfd2454a5b9",
       "version_major": 2,
       "version_minor": 0
      },
      "text/plain": [
       "VBox()"
      ]
     },
     "metadata": {},
     "output_type": "display_data"
    },
    {
     "data": {
      "application/vnd.jupyter.widget-view+json": {
       "model_id": "",
       "version_major": 2,
       "version_minor": 0
      },
      "text/plain": [
       "FloatProgress(value=0.0, bar_style='info', description='Progress:', layout=Layout(height='25px', width='50%'),…"
      ]
     },
     "metadata": {},
     "output_type": "display_data"
    },
    {
     "name": "stdout",
     "output_type": "stream",
     "text": [
      "+---------+---------------+\n",
      "|tconst   |category       |\n",
      "+---------+---------------+\n",
      "|tt0000001|self           |\n",
      "|tt0000001|director       |\n",
      "|tt0000001|cinematographer|\n",
      "|tt0000002|director       |\n",
      "|tt0000002|composer       |\n",
      "|tt0000003|director       |\n",
      "|tt0000003|producer       |\n",
      "|tt0000003|composer       |\n",
      "|tt0000003|editor         |\n",
      "|tt0000004|director       |\n",
      "|tt0000004|composer       |\n",
      "|tt0000005|actor          |\n",
      "|tt0000005|actor          |\n",
      "|tt0000005|director       |\n",
      "|tt0000005|producer       |\n",
      "|tt0000006|director       |\n",
      "|tt0000007|actor          |\n",
      "|tt0000007|actor          |\n",
      "|tt0000007|director       |\n",
      "|tt0000007|director       |\n",
      "|tt0000007|producer       |\n",
      "|tt0000008|actor          |\n",
      "|tt0000008|director       |\n",
      "|tt0000008|cinematographer|\n",
      "|tt0000009|actress        |\n",
      "|tt0000009|actor          |\n",
      "|tt0000009|actor          |\n",
      "|tt0000009|director       |\n",
      "|tt0000010|director       |\n",
      "|tt0000011|actor          |\n",
      "+---------+---------------+\n",
      "only showing top 30 rows"
     ]
    }
   ],
   "source": []
  },
  {
   "cell_type": "code",
   "execution_count": 30,
   "id": "6f876afd",
   "metadata": {
    "execution": {
     "iopub.execute_input": "2024-12-04T03:09:56.136820Z",
     "iopub.status.busy": "2024-12-04T03:09:56.136473Z",
     "iopub.status.idle": "2024-12-04T03:10:35.521502Z",
     "shell.execute_reply": "2024-12-04T03:10:35.520685Z",
     "shell.execute_reply.started": "2024-12-04T03:09:56.136790Z"
    },
    "tags": []
   },
   "outputs": [
    {
     "data": {
      "application/vnd.jupyter.widget-view+json": {
       "model_id": "5fa0624d5d614c869e3b3f672eecefda",
       "version_major": 2,
       "version_minor": 0
      },
      "text/plain": [
       "VBox()"
      ]
     },
     "metadata": {},
     "output_type": "display_data"
    },
    {
     "data": {
      "application/vnd.jupyter.widget-view+json": {
       "model_id": "",
       "version_major": 2,
       "version_minor": 0
      },
      "text/plain": [
       "FloatProgress(value=0.0, bar_style='info', description='Progress:', layout=Layout(height='25px', width='50%'),…"
      ]
     },
     "metadata": {},
     "output_type": "display_data"
    },
    {
     "name": "stdout",
     "output_type": "stream",
     "text": [
      "12"
     ]
    }
   ],
   "source": [
    "from pyspark.sql.functions import countDistinct\n",
    "principles.select(countDistinct(\"category\")).collect()[0][0]"
   ]
  },
  {
   "cell_type": "code",
   "execution_count": 72,
   "id": "44203333",
   "metadata": {
    "execution": {
     "iopub.execute_input": "2024-11-06T20:35:48.711502Z",
     "iopub.status.busy": "2024-11-06T20:35:48.711186Z",
     "iopub.status.idle": "2024-11-06T20:36:34.093580Z",
     "shell.execute_reply": "2024-11-06T20:36:34.092687Z",
     "shell.execute_reply.started": "2024-11-06T20:35:48.711475Z"
    },
    "tags": []
   },
   "outputs": [
    {
     "data": {
      "application/vnd.jupyter.widget-view+json": {
       "model_id": "49783094936e48fa935b5baec98940f6",
       "version_major": 2,
       "version_minor": 0
      },
      "text/plain": [
       "VBox()"
      ]
     },
     "metadata": {},
     "output_type": "display_data"
    },
    {
     "data": {
      "application/vnd.jupyter.widget-view+json": {
       "model_id": "",
       "version_major": 2,
       "version_minor": 0
      },
      "text/plain": [
       "FloatProgress(value=0.0, bar_style='info', description='Progress:', layout=Layout(height='25px', width='50%'),…"
      ]
     },
     "metadata": {},
     "output_type": "display_data"
    },
    {
     "name": "stdout",
     "output_type": "stream",
     "text": [
      "12"
     ]
    }
   ],
   "source": []
  },
  {
   "cell_type": "markdown",
   "id": "c3b2f7b4",
   "metadata": {},
   "source": [
    "What are the unique job categories available?"
   ]
  },
  {
   "cell_type": "code",
   "execution_count": 31,
   "id": "75b26e52",
   "metadata": {
    "execution": {
     "iopub.execute_input": "2024-12-04T03:10:48.231499Z",
     "iopub.status.busy": "2024-12-04T03:10:48.231185Z",
     "iopub.status.idle": "2024-12-04T03:11:25.612596Z",
     "shell.execute_reply": "2024-12-04T03:11:25.611808Z",
     "shell.execute_reply.started": "2024-12-04T03:10:48.231471Z"
    },
    "tags": []
   },
   "outputs": [
    {
     "data": {
      "application/vnd.jupyter.widget-view+json": {
       "model_id": "6bbad02b262c4b719a3e8267181c36b1",
       "version_major": 2,
       "version_minor": 0
      },
      "text/plain": [
       "VBox()"
      ]
     },
     "metadata": {},
     "output_type": "display_data"
    },
    {
     "data": {
      "application/vnd.jupyter.widget-view+json": {
       "model_id": "",
       "version_major": 2,
       "version_minor": 0
      },
      "text/plain": [
       "FloatProgress(value=0.0, bar_style='info', description='Progress:', layout=Layout(height='25px', width='50%'),…"
      ]
     },
     "metadata": {},
     "output_type": "display_data"
    },
    {
     "name": "stdout",
     "output_type": "stream",
     "text": [
      "+-------------------+\n",
      "|category           |\n",
      "+-------------------+\n",
      "|actress            |\n",
      "|producer           |\n",
      "|production_designer|\n",
      "|writer             |\n",
      "|actor              |\n",
      "|cinematographer    |\n",
      "|archive_sound      |\n",
      "|archive_footage    |\n",
      "|self               |\n",
      "|editor             |\n",
      "|composer           |\n",
      "|director           |\n",
      "+-------------------+"
     ]
    }
   ],
   "source": [
    "principles.select(\"category\").distinct().show(truncate=False)"
   ]
  },
  {
   "cell_type": "code",
   "execution_count": 73,
   "id": "e03438b0",
   "metadata": {
    "execution": {
     "iopub.execute_input": "2024-11-06T20:36:34.094937Z",
     "iopub.status.busy": "2024-11-06T20:36:34.094718Z",
     "iopub.status.idle": "2024-11-06T20:37:21.509474Z",
     "shell.execute_reply": "2024-11-06T20:37:21.508707Z",
     "shell.execute_reply.started": "2024-11-06T20:36:34.094915Z"
    },
    "tags": []
   },
   "outputs": [
    {
     "data": {
      "application/vnd.jupyter.widget-view+json": {
       "model_id": "5532f31a776447a9a9b9b101091b3659",
       "version_major": 2,
       "version_minor": 0
      },
      "text/plain": [
       "VBox()"
      ]
     },
     "metadata": {},
     "output_type": "display_data"
    },
    {
     "data": {
      "application/vnd.jupyter.widget-view+json": {
       "model_id": "",
       "version_major": 2,
       "version_minor": 0
      },
      "text/plain": [
       "FloatProgress(value=0.0, bar_style='info', description='Progress:', layout=Layout(height='25px', width='50%'),…"
      ]
     },
     "metadata": {},
     "output_type": "display_data"
    },
    {
     "name": "stdout",
     "output_type": "stream",
     "text": [
      "+-------------------+\n",
      "|category           |\n",
      "+-------------------+\n",
      "|actress            |\n",
      "|producer           |\n",
      "|production_designer|\n",
      "|writer             |\n",
      "|actor              |\n",
      "|cinematographer    |\n",
      "|archive_sound      |\n",
      "|archive_footage    |\n",
      "|self               |\n",
      "|editor             |\n",
      "|composer           |\n",
      "|director           |\n",
      "+-------------------+"
     ]
    }
   ],
   "source": []
  },
  {
   "cell_type": "markdown",
   "id": "47312540",
   "metadata": {},
   "source": [
    "## Top Job Categories"
   ]
  },
  {
   "cell_type": "markdown",
   "id": "61df21f0",
   "metadata": {},
   "source": [
    "Now let's find the top job categories in this dataset by rolling up categories."
   ]
  },
  {
   "cell_type": "markdown",
   "id": "2d56869a",
   "metadata": {},
   "source": [
    "### Counts of Titles / Job Category"
   ]
  },
  {
   "cell_type": "markdown",
   "id": "ae87af2f",
   "metadata": {},
   "source": [
    "The expected output should be:\n",
    "\n",
    "| category | count |\n",
    "|-------------|------------|\n",
    "| a     | 15         |\n",
    "| b     | 2          |\n",
    "| c     | 45          |\n",
    "\n",
    "Or something to that effect."
   ]
  },
  {
   "cell_type": "code",
   "execution_count": 32,
   "id": "40f0ba1e",
   "metadata": {
    "execution": {
     "iopub.execute_input": "2024-12-04T03:11:46.411255Z",
     "iopub.status.busy": "2024-12-04T03:11:46.410945Z",
     "iopub.status.idle": "2024-12-04T03:12:31.800972Z",
     "shell.execute_reply": "2024-12-04T03:12:31.800018Z",
     "shell.execute_reply.started": "2024-12-04T03:11:46.411229Z"
    },
    "tags": []
   },
   "outputs": [
    {
     "data": {
      "application/vnd.jupyter.widget-view+json": {
       "model_id": "d238150309b34a9ba5802214d16847c3",
       "version_major": 2,
       "version_minor": 0
      },
      "text/plain": [
       "VBox()"
      ]
     },
     "metadata": {},
     "output_type": "display_data"
    },
    {
     "data": {
      "application/vnd.jupyter.widget-view+json": {
       "model_id": "",
       "version_major": 2,
       "version_minor": 0
      },
      "text/plain": [
       "FloatProgress(value=0.0, bar_style='info', description='Progress:', layout=Layout(height='25px', width='50%'),…"
      ]
     },
     "metadata": {},
     "output_type": "display_data"
    },
    {
     "name": "stdout",
     "output_type": "stream",
     "text": [
      "+-------------------+--------+\n",
      "|category           |count   |\n",
      "+-------------------+--------+\n",
      "|actress            |10492210|\n",
      "|producer           |3944711 |\n",
      "|production_designer|383761  |\n",
      "|writer             |8495903 |\n",
      "|actor              |13443688|\n",
      "|cinematographer    |2068164 |\n",
      "|archive_sound      |4794    |\n",
      "|archive_footage    |404581  |\n",
      "|self               |10562296|\n",
      "|editor             |2012800 |\n",
      "|composer           |2014049 |\n",
      "|director           |7006843 |\n",
      "+-------------------+--------+"
     ]
    }
   ],
   "source": [
    "from pyspark.sql.functions import count\n",
    "principles.groupBy(\"category\").agg(count('category').alias(\"count\")).show(truncate=False)"
   ]
  },
  {
   "cell_type": "code",
   "execution_count": 74,
   "id": "f3d65964",
   "metadata": {
    "execution": {
     "iopub.execute_input": "2024-11-06T20:37:21.511026Z",
     "iopub.status.busy": "2024-11-06T20:37:21.510799Z",
     "iopub.status.idle": "2024-11-06T20:38:08.893473Z",
     "shell.execute_reply": "2024-11-06T20:38:08.892609Z",
     "shell.execute_reply.started": "2024-11-06T20:37:21.511003Z"
    },
    "tags": []
   },
   "outputs": [
    {
     "data": {
      "application/vnd.jupyter.widget-view+json": {
       "model_id": "aa15deac66cc4d32b16e4379d2f7c85d",
       "version_major": 2,
       "version_minor": 0
      },
      "text/plain": [
       "VBox()"
      ]
     },
     "metadata": {},
     "output_type": "display_data"
    },
    {
     "data": {
      "application/vnd.jupyter.widget-view+json": {
       "model_id": "",
       "version_major": 2,
       "version_minor": 0
      },
      "text/plain": [
       "FloatProgress(value=0.0, bar_style='info', description='Progress:', layout=Layout(height='25px', width='50%'),…"
      ]
     },
     "metadata": {},
     "output_type": "display_data"
    },
    {
     "name": "stdout",
     "output_type": "stream",
     "text": [
      "+-------------------+--------+\n",
      "|category           |count   |\n",
      "+-------------------+--------+\n",
      "|actress            |10492210|\n",
      "|producer           |3944711 |\n",
      "|production_designer|383761  |\n",
      "|writer             |8495903 |\n",
      "|actor              |13443688|\n",
      "|cinematographer    |2068164 |\n",
      "|archive_sound      |4794    |\n",
      "|archive_footage    |404581  |\n",
      "|self               |10562296|\n",
      "|editor             |2012800 |\n",
      "|composer           |2014049 |\n",
      "|director           |7006843 |\n",
      "+-------------------+--------+"
     ]
    }
   ],
   "source": []
  },
  {
   "cell_type": "markdown",
   "id": "f8671889",
   "metadata": {},
   "source": [
    "### Bar Chart of Top Job Categories\n",
    "\n",
    "With this data available, let us now build a barchart of the top 5 categories. \n",
    "\n",
    "**HINT**: don't forget about the matplotlib magic!\n",
    "\n",
    "```\n",
    "%matplot plt\n",
    "```"
   ]
  },
  {
   "cell_type": "code",
   "execution_count": 33,
   "id": "770c32e8",
   "metadata": {
    "execution": {
     "iopub.execute_input": "2024-12-04T03:12:53.090730Z",
     "iopub.status.busy": "2024-12-04T03:12:53.090422Z",
     "iopub.status.idle": "2024-12-04T03:13:36.469329Z",
     "shell.execute_reply": "2024-12-04T03:13:36.468522Z",
     "shell.execute_reply.started": "2024-12-04T03:12:53.090703Z"
    },
    "tags": []
   },
   "outputs": [
    {
     "data": {
      "application/vnd.jupyter.widget-view+json": {
       "model_id": "6dfe8376ae1946bd991cf1f720e46fac",
       "version_major": 2,
       "version_minor": 0
      },
      "text/plain": [
       "VBox()"
      ]
     },
     "metadata": {},
     "output_type": "display_data"
    },
    {
     "data": {
      "application/vnd.jupyter.widget-view+json": {
       "model_id": "",
       "version_major": 2,
       "version_minor": 0
      },
      "text/plain": [
       "FloatProgress(value=0.0, bar_style='info', description='Progress:', layout=Layout(height='25px', width='50%'),…"
      ]
     },
     "metadata": {},
     "output_type": "display_data"
    },
    {
     "name": "stdout",
     "output_type": "stream",
     "text": [
      "+-------------------+--------+\n",
      "|category           |count   |\n",
      "+-------------------+--------+\n",
      "|actor              |13443688|\n",
      "|self               |10562296|\n",
      "|actress            |10492210|\n",
      "|writer             |8495903 |\n",
      "|director           |7006843 |\n",
      "|producer           |3944711 |\n",
      "|cinematographer    |2068164 |\n",
      "|composer           |2014049 |\n",
      "|editor             |2012800 |\n",
      "|archive_footage    |404581  |\n",
      "|production_designer|383761  |\n",
      "|archive_sound      |4794    |\n",
      "+-------------------+--------+"
     ]
    }
   ],
   "source": [
    "from pyspark.sql.functions import count, col\n",
    "count_job=principles.groupBy(\"category\").agg(count('category').alias(\"count\")).sort(col(\"count\").desc())\n",
    "count_job.show(truncate=False)"
   ]
  },
  {
   "cell_type": "code",
   "execution_count": 75,
   "id": "3c73edf1",
   "metadata": {
    "execution": {
     "iopub.execute_input": "2024-11-06T20:38:08.895205Z",
     "iopub.status.busy": "2024-11-06T20:38:08.894856Z",
     "iopub.status.idle": "2024-11-06T20:38:58.290627Z",
     "shell.execute_reply": "2024-11-06T20:38:58.289870Z",
     "shell.execute_reply.started": "2024-11-06T20:38:08.895150Z"
    },
    "tags": []
   },
   "outputs": [
    {
     "data": {
      "application/vnd.jupyter.widget-view+json": {
       "model_id": "7908a00dc6914aff9160786707b90039",
       "version_major": 2,
       "version_minor": 0
      },
      "text/plain": [
       "VBox()"
      ]
     },
     "metadata": {},
     "output_type": "display_data"
    },
    {
     "data": {
      "application/vnd.jupyter.widget-view+json": {
       "model_id": "",
       "version_major": 2,
       "version_minor": 0
      },
      "text/plain": [
       "FloatProgress(value=0.0, bar_style='info', description='Progress:', layout=Layout(height='25px', width='50%'),…"
      ]
     },
     "metadata": {},
     "output_type": "display_data"
    },
    {
     "name": "stdout",
     "output_type": "stream",
     "text": [
      "+-------------------+--------+\n",
      "|category           |count   |\n",
      "+-------------------+--------+\n",
      "|actor              |13443688|\n",
      "|self               |10562296|\n",
      "|actress            |10492210|\n",
      "|writer             |8495903 |\n",
      "|director           |7006843 |\n",
      "|producer           |3944711 |\n",
      "|cinematographer    |2068164 |\n",
      "|composer           |2014049 |\n",
      "|editor             |2012800 |\n",
      "|archive_footage    |404581  |\n",
      "|production_designer|383761  |\n",
      "|archive_sound      |4794    |\n",
      "+-------------------+--------+"
     ]
    }
   ],
   "source": []
  },
  {
   "cell_type": "markdown",
   "id": "e54dd8ef-f32a-4e61-aab4-54aadd71eb58",
   "metadata": {},
   "source": [
    "You do not have to match the color and the figure size but all other aspects of the graph should be matched."
   ]
  },
  {
   "cell_type": "code",
   "execution_count": 39,
   "id": "922d1df3",
   "metadata": {
    "execution": {
     "iopub.execute_input": "2024-12-04T03:26:17.739099Z",
     "iopub.status.busy": "2024-12-04T03:26:17.738790Z",
     "iopub.status.idle": "2024-12-04T03:27:13.167344Z",
     "shell.execute_reply": "2024-12-04T03:27:13.166642Z",
     "shell.execute_reply.started": "2024-12-04T03:26:17.739072Z"
    },
    "tags": []
   },
   "outputs": [
    {
     "data": {
      "application/vnd.jupyter.widget-view+json": {
       "model_id": "7d0862e6272544b4a5c317c974673d87",
       "version_major": 2,
       "version_minor": 0
      },
      "text/plain": [
       "VBox()"
      ]
     },
     "metadata": {},
     "output_type": "display_data"
    },
    {
     "data": {
      "application/vnd.jupyter.widget-view+json": {
       "model_id": "",
       "version_major": 2,
       "version_minor": 0
      },
      "text/plain": [
       "FloatProgress(value=0.0, bar_style='info', description='Progress:', layout=Layout(height='25px', width='50%'),…"
      ]
     },
     "metadata": {},
     "output_type": "display_data"
    },
    {
     "data": {
      "image/png": "[encoded data removed]",
      "text/plain": [
       "<IPython.core.display.Image object>"
      ]
     },
     "metadata": {},
     "output_type": "display_data"
    }
   ],
   "source": [
    "count_job.createOrReplaceTempView('topjob')\n",
    "sqldf = spark.sql(\n",
    "'''\n",
    "SELECT category, count FROM topjob\n",
    "ORDER BY count DESC\n",
    "LIMIT 5\n",
    "'''\n",
    ")\n",
    "\n",
    "import matplotlib.pyplot as plt\n",
    "sqldf.toPandas().plot.bar(x='category', y='count', color='orange', figsize=(12, 8))\n",
    "plt.ylim(3000000, None)\n",
    "plt.xlabel('Job Categories')\n",
    "plt.ylabel('Count')\n",
    "plt.title('Top Job Categories')\n",
    "plt.xticks(rotation=25)\n",
    "%matplot plt"
   ]
  },
  {
   "cell_type": "code",
   "execution_count": 76,
   "id": "eb4608e8-96d1-45d2-9d30-f53b5cd12688",
   "metadata": {
    "execution": {
     "iopub.execute_input": "2024-11-06T20:38:58.291867Z",
     "iopub.status.busy": "2024-11-06T20:38:58.291631Z",
     "iopub.status.idle": "2024-11-06T20:39:43.675740Z",
     "shell.execute_reply": "2024-11-06T20:39:43.674798Z",
     "shell.execute_reply.started": "2024-11-06T20:38:58.291844Z"
    },
    "tags": []
   },
   "outputs": [
    {
     "data": {
      "application/vnd.jupyter.widget-view+json": {
       "model_id": "91b34a9fa25b4675968183293f9efa00",
       "version_major": 2,
       "version_minor": 0
      },
      "text/plain": [
       "VBox()"
      ]
     },
     "metadata": {},
     "output_type": "display_data"
    },
    {
     "data": {
      "application/vnd.jupyter.widget-view+json": {
       "model_id": "",
       "version_major": 2,
       "version_minor": 0
      },
      "text/plain": [
       "FloatProgress(value=0.0, bar_style='info', description='Progress:', layout=Layout(height='25px', width='50%'),…"
      ]
     },
     "metadata": {},
     "output_type": "display_data"
    },
    {
     "data": {
      "image/png": "[encoded data removed]",
      "text/plain": [
       "<IPython.core.display.Image object>"
      ]
     },
     "metadata": {},
     "output_type": "display_data"
    }
   ],
   "source": []
  },
  {
   "cell_type": "markdown",
   "id": "a4436c54",
   "metadata": {
    "tags": []
   },
   "source": [
    "# PART 4 - Answer to the following questions:"
   ]
  },
  {
   "cell_type": "markdown",
   "id": "4c531a7b-8289-4784-825b-fabad415090b",
   "metadata": {},
   "source": [
    "1) You will need to join tables to answer the following questions. Not every question will require four tables. \n",
    "2) Your code should meet all the requirements asked in the questions.\n",
    "3) Your code should be generalizable enough for any given arguments."
   ]
  },
  {
   "cell_type": "markdown",
   "id": "08f889b6-79c0-47ab-97de-51fd67165caa",
   "metadata": {},
   "source": [
    "## 1) Which movies, released in 2003, have received more than 50,000 votes and have an average rating of 8 or higher?"
   ]
  },
  {
   "cell_type": "code",
   "execution_count": 40,
   "id": "2dcbdaf2",
   "metadata": {
    "execution": {
     "iopub.execute_input": "2024-12-04T03:28:38.649199Z",
     "iopub.status.busy": "2024-12-04T03:28:38.648867Z",
     "iopub.status.idle": "2024-12-04T03:29:01.970058Z",
     "shell.execute_reply": "2024-12-04T03:29:01.969257Z",
     "shell.execute_reply.started": "2024-12-04T03:28:38.649160Z"
    },
    "tags": []
   },
   "outputs": [
    {
     "data": {
      "application/vnd.jupyter.widget-view+json": {
       "model_id": "8f2821c116974a83b9a1f6a5efd548b2",
       "version_major": 2,
       "version_minor": 0
      },
      "text/plain": [
       "VBox()"
      ]
     },
     "metadata": {},
     "output_type": "display_data"
    },
    {
     "data": {
      "application/vnd.jupyter.widget-view+json": {
       "model_id": "",
       "version_major": 2,
       "version_minor": 0
      },
      "text/plain": [
       "FloatProgress(value=0.0, bar_style='info', description='Progress:', layout=Layout(height='25px', width='50%'),…"
      ]
     },
     "metadata": {},
     "output_type": "display_data"
    },
    {
     "name": "stdout",
     "output_type": "stream",
     "text": [
      "+------------------------------------------------------+-------+---------------+\n",
      "|Movie                                                 |Ratings|Number of Votes|\n",
      "+------------------------------------------------------+-------+---------------+\n",
      "|The Lord of the Rings: The Return of the King         |9.0    |1965196        |\n",
      "|Oldboy                                                |8.3    |630695         |\n",
      "|Finding Nemo                                          |8.2    |1106772        |\n",
      "|Kill Bill: Vol. 1                                     |8.2    |1184605        |\n",
      "|Memories of Murder                                    |8.1    |213610         |\n",
      "|Pirates of the Caribbean: The Curse of the Black Pearl|8.1    |1202458        |\n",
      "|Munna Bhai M.B.B.S.                                   |8.1    |87972          |\n",
      "|Spring, Summer, Fall, Winter... and Spring            |8.0    |86510          |\n",
      "|Dogville                                              |8.0    |157921         |\n",
      "|Big Fish                                              |8.0    |457515         |\n",
      "+------------------------------------------------------+-------+---------------+"
     ]
    }
   ],
   "source": [
    "titles.join(ratings,on='tconst',how='inner')\\\n",
    "    .select(\"primaryTitle\", \"averageRating\", \"numVotes\")\\\n",
    "    .withColumnRenamed(\"primaryTitle\",\"Movie\")\\\n",
    "    .withColumnRenamed(\"averageRating\",\"Ratings\")\\\n",
    "    .withColumnRenamed(\"numVotes\",\"Number of Votes\")\\\n",
    "    .filter((titles.titleType == \"movie\") \n",
    "            & (titles.startYear == 2003) \n",
    "            & (ratings.numVotes > 50000) \n",
    "            & (ratings.averageRating >= 8))\\\n",
    "    .sort(col(\"averageRating\").desc())\\\n",
    "    .show(truncate=False)"
   ]
  },
  {
   "cell_type": "code",
   "execution_count": 77,
   "id": "df9133ab-c606-4d2e-ba25-d520178e6569",
   "metadata": {
    "execution": {
     "iopub.execute_input": "2024-11-06T20:39:50.202299Z",
     "iopub.status.busy": "2024-11-06T20:39:50.202008Z",
     "iopub.status.idle": "2024-11-06T20:40:03.509296Z",
     "shell.execute_reply": "2024-11-06T20:40:03.508533Z",
     "shell.execute_reply.started": "2024-11-06T20:39:50.202274Z"
    },
    "tags": []
   },
   "outputs": [
    {
     "data": {
      "application/vnd.jupyter.widget-view+json": {
       "model_id": "084417a6e571465daa9ae68b72e6980e",
       "version_major": 2,
       "version_minor": 0
      },
      "text/plain": [
       "VBox()"
      ]
     },
     "metadata": {},
     "output_type": "display_data"
    },
    {
     "data": {
      "application/vnd.jupyter.widget-view+json": {
       "model_id": "",
       "version_major": 2,
       "version_minor": 0
      },
      "text/plain": [
       "FloatProgress(value=0.0, bar_style='info', description='Progress:', layout=Layout(height='25px', width='50%'),…"
      ]
     },
     "metadata": {},
     "output_type": "display_data"
    },
    {
     "name": "stdout",
     "output_type": "stream",
     "text": [
      "+------------------------------------------------------+-------+---------------+\n",
      "|Movie                                                 |Ratings|Number of Votes|\n",
      "+------------------------------------------------------+-------+---------------+\n",
      "|The Lord of the Rings: The Return of the King         |9.0    |1965196        |\n",
      "|Oldboy                                                |8.3    |630695         |\n",
      "|Finding Nemo                                          |8.2    |1106772        |\n",
      "|Kill Bill: Vol. 1                                     |8.2    |1184605        |\n",
      "|Memories of Murder                                    |8.1    |213610         |\n",
      "|Pirates of the Caribbean: The Curse of the Black Pearl|8.1    |1202458        |\n",
      "|Munna Bhai M.B.B.S.                                   |8.1    |87972          |\n",
      "|Spring, Summer, Fall, Winter... and Spring            |8.0    |86510          |\n",
      "|Dogville                                              |8.0    |157921         |\n",
      "|Big Fish                                              |8.0    |457515         |\n",
      "+------------------------------------------------------+-------+---------------+"
     ]
    }
   ],
   "source": []
  },
  {
   "cell_type": "markdown",
   "id": "5c4527e8-d48d-48be-bc43-2e22708c18a9",
   "metadata": {
    "tags": []
   },
   "source": [
    "## 2) List the films featuring Cillian Murphy as an actor since 2007, including their ratings. What is his highest-rated movie?"
   ]
  },
  {
   "cell_type": "code",
   "execution_count": 43,
   "id": "daa97f0b",
   "metadata": {
    "execution": {
     "iopub.execute_input": "2024-12-04T03:43:21.289005Z",
     "iopub.status.busy": "2024-12-04T03:43:21.288703Z",
     "iopub.status.idle": "2024-12-04T03:45:48.998355Z",
     "shell.execute_reply": "2024-12-04T03:45:48.997596Z",
     "shell.execute_reply.started": "2024-12-04T03:43:21.288980Z"
    },
    "tags": []
   },
   "outputs": [
    {
     "data": {
      "application/vnd.jupyter.widget-view+json": {
       "model_id": "d1dbcd4a76a54f0a9cd4ad259b23b122",
       "version_major": 2,
       "version_minor": 0
      },
      "text/plain": [
       "VBox()"
      ]
     },
     "metadata": {},
     "output_type": "display_data"
    },
    {
     "data": {
      "application/vnd.jupyter.widget-view+json": {
       "model_id": "",
       "version_major": 2,
       "version_minor": 0
      },
      "text/plain": [
       "FloatProgress(value=0.0, bar_style='info', description='Progress:', layout=Layout(height='25px', width='50%'),…"
      ]
     },
     "metadata": {},
     "output_type": "display_data"
    },
    {
     "name": "stdout",
     "output_type": "stream",
     "text": [
      "+-----------------------+----+----------+\n",
      "|Movies                 |Year|Avg Rating|\n",
      "+-----------------------+----+----------+\n",
      "|Small Things Like These|2024|7.2       |\n",
      "|Oppenheimer            |2023|8.4       |\n",
      "|Kensuke's Kingdom      |2023|7.1       |\n",
      "|A Quiet Place Part II  |2020|7.2       |\n",
      "|Anna                   |2019|6.6       |\n",
      "|Anthropoid             |2016|7.2       |\n",
      "|Free Fire              |2016|6.3       |\n",
      "|In the Heart of the Sea|2015|6.9       |\n",
      "|Transcendence          |2014|6.2       |\n",
      "|Aloft                  |2014|5.3       |\n",
      "|Red Lights             |2012|6.2       |\n",
      "|Retreat                |2011|5.8       |\n",
      "|In Time                |2011|6.7       |\n",
      "|Peacock                |2010|6.2       |\n",
      "|Perrier's Bounty       |2009|6.3       |\n",
      "|Waveriders             |2008|6.8       |\n",
      "|Sunshine               |2007|7.2       |\n",
      "|Watching the Detectives|2007|6.2       |\n",
      "+-----------------------+----+----------+\n",
      "\n",
      "Highest rated movie: Oppenheimer with a rating of 8.4"
     ]
    }
   ],
   "source": [
    "# get all ratings\n",
    "cm_rating=name.join(principles, on='nconst', how='inner')\\\n",
    "    .join(titles, on='tconst', how='inner')\\\n",
    "    .join(ratings, on='tconst', how='inner')\\\n",
    "    .select(\"primaryTitle\", \"startYear\", \"averageRating\")\\\n",
    "    .withColumnRenamed(\"primaryTitle\", \"Movies\")\\\n",
    "    .withColumnRenamed(\"startYear\", \"Year\")\\\n",
    "    .withColumnRenamed(\"averageRating\", \"Avg Rating\")\\\n",
    "    .filter((principles.category == \"actor\") \n",
    "            & (name.primaryName == \"Cillian Murphy\")\n",
    "            & (titles.startYear >= 2007)\n",
    "            &(titles.titleType == \"movie\"))\\\n",
    "    .sort(col(\"Year\").desc())\n",
    "cm_rating.show(truncate=False)\n",
    "\n",
    "# get the highest rating\n",
    "highest=cm_rating.sort(col(\"Avg Rating\").desc()).collect()\n",
    "print(\"Highest rated movie:\", highest[0][0], \"with a rating of\", highest[0][2])"
   ]
  },
  {
   "cell_type": "code",
   "execution_count": 79,
   "id": "3bded4c1-78aa-44c7-ad8e-11d0d4b8db9f",
   "metadata": {
    "execution": {
     "iopub.execute_input": "2024-11-06T20:41:44.060473Z",
     "iopub.status.busy": "2024-11-06T20:41:44.060153Z",
     "iopub.status.idle": "2024-11-06T20:44:03.818428Z",
     "shell.execute_reply": "2024-11-06T20:44:03.817606Z",
     "shell.execute_reply.started": "2024-11-06T20:41:44.060446Z"
    },
    "tags": []
   },
   "outputs": [
    {
     "data": {
      "application/vnd.jupyter.widget-view+json": {
       "model_id": "688dae76c1dc48509f02d7418b6934a3",
       "version_major": 2,
       "version_minor": 0
      },
      "text/plain": [
       "VBox()"
      ]
     },
     "metadata": {},
     "output_type": "display_data"
    },
    {
     "data": {
      "application/vnd.jupyter.widget-view+json": {
       "model_id": "",
       "version_major": 2,
       "version_minor": 0
      },
      "text/plain": [
       "FloatProgress(value=0.0, bar_style='info', description='Progress:', layout=Layout(height='25px', width='50%'),…"
      ]
     },
     "metadata": {},
     "output_type": "display_data"
    },
    {
     "name": "stdout",
     "output_type": "stream",
     "text": [
      "+-----------------------+----+----------+\n",
      "|Movies                 |Year|Avg Rating|\n",
      "+-----------------------+----+----------+\n",
      "|Small Things Like These|2024|7.2       |\n",
      "|Oppenheimer            |2023|8.4       |\n",
      "|Kensuke's Kingdom      |2023|7.1       |\n",
      "|A Quiet Place Part II  |2020|7.2       |\n",
      "|Anna                   |2019|6.6       |\n",
      "|Anthropoid             |2016|7.2       |\n",
      "|Free Fire              |2016|6.3       |\n",
      "|In the Heart of the Sea|2015|6.9       |\n",
      "|Transcendence          |2014|6.2       |\n",
      "|Aloft                  |2014|5.3       |\n",
      "|Red Lights             |2012|6.2       |\n",
      "|Retreat                |2011|5.8       |\n",
      "|In Time                |2011|6.7       |\n",
      "|Peacock                |2010|6.2       |\n",
      "|Perrier's Bounty       |2009|6.3       |\n",
      "|Waveriders             |2008|6.8       |\n",
      "|Sunshine               |2007|7.2       |\n",
      "|Watching the Detectives|2007|6.2       |\n",
      "+-----------------------+----+----------+\n",
      "\n",
      "Highest rated movie: Oppenheimer with a rating of 8.4"
     ]
    }
   ],
   "source": []
  },
  {
   "cell_type": "markdown",
   "id": "7fe49c7b-c432-4353-9d87-28b1f97470e7",
   "metadata": {},
   "source": [
    "## 3) How many movies has Zendaya featured as an actress in each year?"
   ]
  },
  {
   "cell_type": "code",
   "execution_count": 44,
   "id": "9950fc32",
   "metadata": {
    "execution": {
     "iopub.execute_input": "2024-12-04T03:59:11.045998Z",
     "iopub.status.busy": "2024-12-04T03:59:11.045636Z",
     "iopub.status.idle": "2024-12-04T04:00:32.524760Z",
     "shell.execute_reply": "2024-12-04T04:00:32.523746Z",
     "shell.execute_reply.started": "2024-12-04T03:59:11.045962Z"
    },
    "tags": []
   },
   "outputs": [
    {
     "data": {
      "application/vnd.jupyter.widget-view+json": {
       "model_id": "052999c1c7054ff5a7d83742e7349002",
       "version_major": 2,
       "version_minor": 0
      },
      "text/plain": [
       "VBox()"
      ]
     },
     "metadata": {},
     "output_type": "display_data"
    },
    {
     "data": {
      "application/vnd.jupyter.widget-view+json": {
       "model_id": "",
       "version_major": 2,
       "version_minor": 0
      },
      "text/plain": [
       "FloatProgress(value=0.0, bar_style='info', description='Progress:', layout=Layout(height='25px', width='50%'),…"
      ]
     },
     "metadata": {},
     "output_type": "display_data"
    },
    {
     "name": "stdout",
     "output_type": "stream",
     "text": [
      "+----+-----+\n",
      "|Year|Total|\n",
      "+----+-----+\n",
      "|2024|2    |\n",
      "|2021|3    |\n",
      "|2018|2    |\n",
      "|2017|1    |\n",
      "+----+-----+"
     ]
    }
   ],
   "source": [
    "name.join(principles, on='nconst', how='inner').join(titles, on='tconst', how='inner')\\\n",
    "    .select(\"startYear\")\\\n",
    "    .withColumnRenamed(\"startYear\", \"Year\")\\\n",
    "    .filter((name.primaryName == \"Zendaya\")\n",
    "            &(principles.category == \"actress\")\n",
    "            &(titles.titleType == \"movie\")\n",
    "            &(titles.startYear != '\\\\N'))\\\n",
    "    .groupBy(\"Year\").agg(count('Year').alias(\"Total\"))\\\n",
    "    .sort(col(\"Year\").desc())\\\n",
    "    .show(truncate=False)"
   ]
  },
  {
   "cell_type": "code",
   "execution_count": 80,
   "id": "1a43cd8f-b6cf-463a-8fc9-68816e44834f",
   "metadata": {
    "execution": {
     "iopub.execute_input": "2024-11-06T20:44:26.567831Z",
     "iopub.status.busy": "2024-11-06T20:44:26.567523Z",
     "iopub.status.idle": "2024-11-06T20:45:34.325812Z",
     "shell.execute_reply": "2024-11-06T20:45:34.265204Z",
     "shell.execute_reply.started": "2024-11-06T20:44:26.567805Z"
    },
    "tags": []
   },
   "outputs": [
    {
     "data": {
      "application/vnd.jupyter.widget-view+json": {
       "model_id": "df7acb897fcd4dfb83ea8e42ee29a6be",
       "version_major": 2,
       "version_minor": 0
      },
      "text/plain": [
       "VBox()"
      ]
     },
     "metadata": {},
     "output_type": "display_data"
    },
    {
     "data": {
      "application/vnd.jupyter.widget-view+json": {
       "model_id": "",
       "version_major": 2,
       "version_minor": 0
      },
      "text/plain": [
       "FloatProgress(value=0.0, bar_style='info', description='Progress:', layout=Layout(height='25px', width='50%'),…"
      ]
     },
     "metadata": {},
     "output_type": "display_data"
    },
    {
     "name": "stdout",
     "output_type": "stream",
     "text": [
      "+----+-----+\n",
      "|Year|Total|\n",
      "+----+-----+\n",
      "|2024|2    |\n",
      "|2021|3    |\n",
      "|2018|2    |\n",
      "|2017|1    |\n",
      "+----+-----+"
     ]
    }
   ],
   "source": []
  },
  {
   "cell_type": "markdown",
   "id": "230da1d4-5cde-4f3c-9aed-bb88c7aa8d6a",
   "metadata": {
    "execution": {
     "iopub.execute_input": "2024-03-12T19:07:22.538196Z",
     "iopub.status.busy": "2024-03-12T19:07:22.537886Z",
     "iopub.status.idle": "2024-03-12T19:07:22.582512Z",
     "shell.execute_reply": "2024-03-12T19:07:22.581837Z",
     "shell.execute_reply.started": "2024-03-12T19:07:22.538169Z"
    },
    "tags": []
   },
   "source": [
    "## 4) At what age did Audrey Hepburn, known for her role in the movie 'Breakfast at Tiffany's,' pass away?"
   ]
  },
  {
   "cell_type": "code",
   "execution_count": 45,
   "id": "89b90f59",
   "metadata": {
    "execution": {
     "iopub.execute_input": "2024-12-04T04:01:13.727494Z",
     "iopub.status.busy": "2024-12-04T04:01:13.727198Z",
     "iopub.status.idle": "2024-12-04T04:02:39.402134Z",
     "shell.execute_reply": "2024-12-04T04:02:39.400938Z",
     "shell.execute_reply.started": "2024-12-04T04:01:13.727469Z"
    },
    "tags": []
   },
   "outputs": [
    {
     "data": {
      "application/vnd.jupyter.widget-view+json": {
       "model_id": "d778036a98284e138e2a9f2160ed06df",
       "version_major": 2,
       "version_minor": 0
      },
      "text/plain": [
       "VBox()"
      ]
     },
     "metadata": {},
     "output_type": "display_data"
    },
    {
     "data": {
      "application/vnd.jupyter.widget-view+json": {
       "model_id": "",
       "version_major": 2,
       "version_minor": 0
      },
      "text/plain": [
       "FloatProgress(value=0.0, bar_style='info', description='Progress:', layout=Layout(height='25px', width='50%'),…"
      ]
     },
     "metadata": {},
     "output_type": "display_data"
    },
    {
     "name": "stdout",
     "output_type": "stream",
     "text": [
      "Audrey Hepburn passed away at the age of 64."
     ]
    }
   ],
   "source": [
    "age=name.join(principles, on='nconst', how='inner').join(titles, on='tconst', how='inner')\\\n",
    "    .filter((name.primaryName == \"Audrey Hepburn\")\n",
    "            &(titles.primaryTitle == \"Breakfast at Tiffany's\"))\\\n",
    "    .withColumn(\"Age\", col(\"deathYear\") - col(\"birthYear\"))\\\n",
    "    .select(\"Age\")\\\n",
    "    .collect()[0][0]\n",
    "print(f'Audrey Hepburn passed away at the age of {int(age)}.')"
   ]
  },
  {
   "cell_type": "code",
   "execution_count": 87,
   "id": "c296c8d1-2651-474c-a210-27f3962b9ac3",
   "metadata": {
    "execution": {
     "iopub.execute_input": "2024-11-06T20:51:33.852874Z",
     "iopub.status.busy": "2024-11-06T20:51:33.852543Z",
     "iopub.status.idle": "2024-11-06T20:52:33.304781Z",
     "shell.execute_reply": "2024-11-06T20:52:33.303739Z",
     "shell.execute_reply.started": "2024-11-06T20:51:33.852848Z"
    },
    "tags": []
   },
   "outputs": [
    {
     "data": {
      "application/vnd.jupyter.widget-view+json": {
       "model_id": "3d76ab5a5c9a44db88cbf76f9f41a680",
       "version_major": 2,
       "version_minor": 0
      },
      "text/plain": [
       "VBox()"
      ]
     },
     "metadata": {},
     "output_type": "display_data"
    },
    {
     "data": {
      "application/vnd.jupyter.widget-view+json": {
       "model_id": "",
       "version_major": 2,
       "version_minor": 0
      },
      "text/plain": [
       "FloatProgress(value=0.0, bar_style='info', description='Progress:', layout=Layout(height='25px', width='50%'),…"
      ]
     },
     "metadata": {},
     "output_type": "display_data"
    },
    {
     "name": "stdout",
     "output_type": "stream",
     "text": [
      "Audrey Hepburn passed away at the age of 64."
     ]
    }
   ],
   "source": []
  },
  {
   "cell_type": "markdown",
   "id": "01c35bd1-25f1-4f7c-8781-ee97277e5b31",
   "metadata": {},
   "source": [
    "## 5) What is the movie(s) with the highest average rating among those featuring Chris Evans, known for his role in 'Captain America: The First Avenger'?\n",
    "\n",
    "Write your code in a way that it finds and displays all movies with the highest rating, even if there's more than one. "
   ]
  },
  {
   "cell_type": "code",
   "execution_count": 47,
   "id": "ef7f8f0a",
   "metadata": {
    "execution": {
     "iopub.execute_input": "2024-12-04T04:07:47.690613Z",
     "iopub.status.busy": "2024-12-04T04:07:47.690303Z",
     "iopub.status.idle": "2024-12-04T04:11:19.583337Z",
     "shell.execute_reply": "2024-12-04T04:11:19.582567Z",
     "shell.execute_reply.started": "2024-12-04T04:07:47.690584Z"
    },
    "tags": []
   },
   "outputs": [
    {
     "data": {
      "application/vnd.jupyter.widget-view+json": {
       "model_id": "3c74a8137ee84669b3b4a52a1ee976c9",
       "version_major": 2,
       "version_minor": 0
      },
      "text/plain": [
       "VBox()"
      ]
     },
     "metadata": {},
     "output_type": "display_data"
    },
    {
     "data": {
      "application/vnd.jupyter.widget-view+json": {
       "model_id": "",
       "version_major": 2,
       "version_minor": 0
      },
      "text/plain": [
       "FloatProgress(value=0.0, bar_style='info', description='Progress:', layout=Layout(height='25px', width='50%'),…"
      ]
     },
     "metadata": {},
     "output_type": "display_data"
    },
    {
     "name": "stdout",
     "output_type": "stream",
     "text": [
      "+----------------------+------------------+\n",
      "|Movies                |Highest Avg Rating|\n",
      "+----------------------+------------------+\n",
      "|Avengers: Infinity War|8.4               |\n",
      "|Avengers: Endgame     |8.4               |\n",
      "+----------------------+------------------+"
     ]
    }
   ],
   "source": [
    "# get the nconst of Chris Evans\n",
    "ce_nconst=name.join(principles, on='nconst', how='inner').join(titles, on='tconst', how='inner')\\\n",
    "    .filter((name.primaryName == \"Chris Evans\")\n",
    "           &(titles.primaryTitle == \"Captain America: The First Avenger\"))\\\n",
    "    .select(\"nconst\")\\\n",
    "    .collect()[0][0]\n",
    "\n",
    "# get the movies Chris Evans acted\n",
    "movies=principles.join(titles, on='tconst', how='inner').join(ratings, on='tconst', how='inner')\\\n",
    "    .select(\"primaryTitle\", \"averageRating\")\\\n",
    "    .withColumnRenamed(\"primaryTitle\", \"Movies\")\\\n",
    "    .withColumnRenamed(\"averageRating\", \"Highest Avg Rating\")\\\n",
    "    .filter((principles.nconst == ce_nconst)\n",
    "           &(titles.titleType == \"movie\"))\n",
    "\n",
    "# only keep the highest rating\n",
    "from pyspark.sql.functions import max\n",
    "highest_rate=movies.select(max(\"Highest Avg Rating\")).collect()[0][0]\n",
    "movies.filter(col(\"Highest Avg Rating\") == highest_rate).show(truncate=False)"
   ]
  },
  {
   "cell_type": "code",
   "execution_count": 88,
   "id": "edaa198b-4879-4a51-ba20-fccbc2b77a56",
   "metadata": {
    "execution": {
     "iopub.execute_input": "2024-11-06T20:53:23.157921Z",
     "iopub.status.busy": "2024-11-06T20:53:23.157615Z",
     "iopub.status.idle": "2024-11-06T20:56:51.132939Z",
     "shell.execute_reply": "2024-11-06T20:56:51.132013Z",
     "shell.execute_reply.started": "2024-11-06T20:53:23.157895Z"
    },
    "tags": []
   },
   "outputs": [
    {
     "data": {
      "application/vnd.jupyter.widget-view+json": {
       "model_id": "9b4a53eba5ad4ffd91e09129d01f1e28",
       "version_major": 2,
       "version_minor": 0
      },
      "text/plain": [
       "VBox()"
      ]
     },
     "metadata": {},
     "output_type": "display_data"
    },
    {
     "data": {
      "application/vnd.jupyter.widget-view+json": {
       "model_id": "",
       "version_major": 2,
       "version_minor": 0
      },
      "text/plain": [
       "FloatProgress(value=0.0, bar_style='info', description='Progress:', layout=Layout(height='25px', width='50%'),…"
      ]
     },
     "metadata": {},
     "output_type": "display_data"
    },
    {
     "name": "stdout",
     "output_type": "stream",
     "text": [
      "+----------------------+------------------+\n",
      "|Movies                |Highest Avg Rating|\n",
      "+----------------------+------------------+\n",
      "|Avengers: Infinity War|8.4               |\n",
      "|Avengers: Endgame     |8.4               |\n",
      "+----------------------+------------------+"
     ]
    }
   ],
   "source": []
  },
  {
   "cell_type": "markdown",
   "id": "9001ac0a-4e85-428d-8c89-878bb7a2d01b",
   "metadata": {},
   "source": [
    "## 6) Among the movies in which Clint Eastwood, known for 'The Good, the Bad and the Ugly', and Harrison Ford, known for 'Raiders of the Lost Ark', have acted, who has the higher average rating?\n",
    "\n",
    "Hint: You will need to calculate the average rating across all movies for each actor."
   ]
  },
  {
   "cell_type": "code",
   "execution_count": 50,
   "id": "d560185b",
   "metadata": {
    "execution": {
     "iopub.execute_input": "2024-12-04T04:23:27.526806Z",
     "iopub.status.busy": "2024-12-04T04:23:27.526489Z",
     "iopub.status.idle": "2024-12-04T04:27:53.724868Z",
     "shell.execute_reply": "2024-12-04T04:27:53.724064Z",
     "shell.execute_reply.started": "2024-12-04T04:23:27.526781Z"
    },
    "tags": []
   },
   "outputs": [
    {
     "data": {
      "application/vnd.jupyter.widget-view+json": {
       "model_id": "48fdfd994fd84365aef29483e39a3c2b",
       "version_major": 2,
       "version_minor": 0
      },
      "text/plain": [
       "VBox()"
      ]
     },
     "metadata": {},
     "output_type": "display_data"
    },
    {
     "data": {
      "application/vnd.jupyter.widget-view+json": {
       "model_id": "",
       "version_major": 2,
       "version_minor": 0
      },
      "text/plain": [
       "FloatProgress(value=0.0, bar_style='info', description='Progress:', layout=Layout(height='25px', width='50%'),…"
      ]
     },
     "metadata": {},
     "output_type": "display_data"
    },
    {
     "name": "stdout",
     "output_type": "stream",
     "text": [
      "The average rating of Harrison Ford is 6.83\n",
      "The average rating of Clint Eastwood is 6.86\n",
      "Clint Eastwood has a higher average rating"
     ]
    }
   ],
   "source": [
    "# get nconst of Harrison Ford\n",
    "hf_nconst=name.join(principles, on='nconst', how='inner').join(titles, on='tconst', how='inner')\\\n",
    "    .filter((name.primaryName == \"Harrison Ford\")\n",
    "           &(titles.primaryTitle == \"Raiders of the Lost Ark\"))\\\n",
    "    .select(\"nconst\")\\\n",
    "    .collect()[0][0]\n",
    "\n",
    "# get average rating of Harrison Ford\n",
    "hf_rating=principles.join(titles, on='tconst', how='inner').join(ratings, on='tconst', how='inner')\\\n",
    "    .select(\"nconst\", \"averageRating\")\\\n",
    "    .filter((principles.nconst == hf_nconst)\n",
    "            &(titles.titleType == \"movie\")\n",
    "            &(principles.category == \"actor\"))\\\n",
    "    .groupby(\"nconst\").agg(round(mean(\"averageRating\"),2).alias(\"rating\"))\\\n",
    "    .collect()[0][1]\n",
    "\n",
    "print('The average rating of Harrison Ford is', hf_rating)\n",
    "\n",
    "# get nconst of Clint Eastwood\n",
    "ce_nconst=name.join(principles, on='nconst', how='inner').join(titles, on='tconst', how='inner')\\\n",
    "    .filter((name.primaryName == \"Clint Eastwood\")\n",
    "           &(titles.primaryTitle == \"The Good, the Bad and the Ugly\"))\\\n",
    "    .select(\"nconst\")\\\n",
    "    .collect()[0][0]\n",
    "\n",
    "# get average rating of Clint Eastwood\n",
    "ce_rating=principles.join(titles, on='tconst', how='inner').join(ratings, on='tconst', how='inner')\\\n",
    "    .select(\"nconst\", \"averageRating\")\\\n",
    "    .filter((principles.nconst == ce_nconst)\n",
    "            &(titles.titleType == \"movie\")\n",
    "            &(principles.category == \"actor\"))\\\n",
    "    .groupby(\"nconst\").agg(round(mean(\"averageRating\"),2).alias(\"rating\"))\\\n",
    "    .collect()[0][1]\n",
    "\n",
    "print('The average rating of Clint Eastwood is', ce_rating)\n",
    "\n",
    "print('Clint Eastwood has a higher average rating')"
   ]
  },
  {
   "cell_type": "code",
   "execution_count": 89,
   "id": "0bf482ba-092a-4be8-9dc7-007d7ac44900",
   "metadata": {
    "execution": {
     "iopub.execute_input": "2024-11-06T20:56:51.134290Z",
     "iopub.status.busy": "2024-11-06T20:56:51.134070Z",
     "iopub.status.idle": "2024-11-06T21:01:29.508714Z",
     "shell.execute_reply": "2024-11-06T21:01:29.507785Z",
     "shell.execute_reply.started": "2024-11-06T20:56:51.134268Z"
    },
    "tags": []
   },
   "outputs": [
    {
     "data": {
      "application/vnd.jupyter.widget-view+json": {
       "model_id": "b54d8222ffff4d6f961a3a2a09be628f",
       "version_major": 2,
       "version_minor": 0
      },
      "text/plain": [
       "VBox()"
      ]
     },
     "metadata": {},
     "output_type": "display_data"
    },
    {
     "data": {
      "application/vnd.jupyter.widget-view+json": {
       "model_id": "",
       "version_major": 2,
       "version_minor": 0
      },
      "text/plain": [
       "FloatProgress(value=0.0, bar_style='info', description='Progress:', layout=Layout(height='25px', width='50%'),…"
      ]
     },
     "metadata": {},
     "output_type": "display_data"
    },
    {
     "name": "stdout",
     "output_type": "stream",
     "text": [
      "The average rating of Harrison Ford is 6.83\n",
      "The average rating of Clint Eastwood is 6.86\n",
      "Clint Eastwood has a higher average rating"
     ]
    }
   ],
   "source": []
  },
  {
   "cell_type": "markdown",
   "id": "17273925",
   "metadata": {},
   "source": [
    "## 7) What are the movies in which both Johnny Depp and Helena Bonham Carter have acted together?"
   ]
  },
  {
   "cell_type": "code",
   "execution_count": 51,
   "id": "b7632d7f",
   "metadata": {
    "execution": {
     "iopub.execute_input": "2024-12-04T04:34:01.990245Z",
     "iopub.status.busy": "2024-12-04T04:34:01.989931Z",
     "iopub.status.idle": "2024-12-04T04:36:25.695420Z",
     "shell.execute_reply": "2024-12-04T04:36:25.694651Z",
     "shell.execute_reply.started": "2024-12-04T04:34:01.990219Z"
    },
    "tags": []
   },
   "outputs": [
    {
     "data": {
      "application/vnd.jupyter.widget-view+json": {
       "model_id": "e06f487c2a4447c0b0296d7cac51d198",
       "version_major": 2,
       "version_minor": 0
      },
      "text/plain": [
       "VBox()"
      ]
     },
     "metadata": {},
     "output_type": "display_data"
    },
    {
     "data": {
      "application/vnd.jupyter.widget-view+json": {
       "model_id": "",
       "version_major": 2,
       "version_minor": 0
      },
      "text/plain": [
       "FloatProgress(value=0.0, bar_style='info', description='Progress:', layout=Layout(height='25px', width='50%'),…"
      ]
     },
     "metadata": {},
     "output_type": "display_data"
    },
    {
     "name": "stdout",
     "output_type": "stream",
     "text": [
      "+----------------------------------------------+\n",
      "|Common Movies                                 |\n",
      "+----------------------------------------------+\n",
      "|Dark Shadows                                  |\n",
      "|Sweeney Todd: The Demon Barber of Fleet Street|\n",
      "|Corpse Bride                                  |\n",
      "|Charlie and the Chocolate Factory             |\n",
      "|Alice in Wonderland                           |\n",
      "|Alice Through the Looking Glass               |\n",
      "+----------------------------------------------+"
     ]
    }
   ],
   "source": [
    "# get the movies that Johnny Depp acted\n",
    "jd_movies=name.join(principles, on='nconst', how='inner').join(titles, on='tconst', how='inner')\\\n",
    "        .select(\"primaryTitle\")\\\n",
    "        .filter((name.primaryName == \"Johnny Depp\")\n",
    "                &(titles.titleType == \"movie\")\n",
    "                &(principles.category == \"actor\"))\n",
    "\n",
    "# get the movies that Helena Bonham Carter acted\n",
    "hb_movies=name.join(principles, on='nconst', how='inner').join(titles, on='tconst', how='inner')\\\n",
    "    .select(\"primaryTitle\")\\\n",
    "    .filter((name.primaryName == \"Helena Bonham Carter\")\n",
    "            &(titles.titleType == \"movie\")\n",
    "            &(principles.category == \"actress\"))\n",
    "\n",
    "# get the common movies\n",
    "jd_movies.join(hb_movies, on='primaryTitle', how='inner')\\\n",
    "    .select(\"primaryTitle\")\\\n",
    "    .withColumnRenamed(\"primaryTitle\", \"Common Movies\")\\\n",
    "    .show(truncate=False)"
   ]
  },
  {
   "cell_type": "code",
   "execution_count": 90,
   "id": "dfced2cd",
   "metadata": {
    "execution": {
     "iopub.execute_input": "2024-11-06T21:01:29.511093Z",
     "iopub.status.busy": "2024-11-06T21:01:29.510752Z",
     "iopub.status.idle": "2024-11-06T21:02:44.993052Z",
     "shell.execute_reply": "2024-11-06T21:02:44.992209Z",
     "shell.execute_reply.started": "2024-11-06T21:01:29.511054Z"
    },
    "tags": []
   },
   "outputs": [
    {
     "data": {
      "application/vnd.jupyter.widget-view+json": {
       "model_id": "1d73c8e671dc40898d1a78c44733fb31",
       "version_major": 2,
       "version_minor": 0
      },
      "text/plain": [
       "VBox()"
      ]
     },
     "metadata": {},
     "output_type": "display_data"
    },
    {
     "data": {
      "application/vnd.jupyter.widget-view+json": {
       "model_id": "",
       "version_major": 2,
       "version_minor": 0
      },
      "text/plain": [
       "FloatProgress(value=0.0, bar_style='info', description='Progress:', layout=Layout(height='25px', width='50%'),…"
      ]
     },
     "metadata": {},
     "output_type": "display_data"
    },
    {
     "name": "stdout",
     "output_type": "stream",
     "text": [
      "+----------------------------------------------+\n",
      "|Common Movies                                 |\n",
      "+----------------------------------------------+\n",
      "|Dark Shadows                                  |\n",
      "|Sweeney Todd: The Demon Barber of Fleet Street|\n",
      "|Corpse Bride                                  |\n",
      "|Charlie and the Chocolate Factory             |\n",
      "|Alice in Wonderland                           |\n",
      "|Alice Through the Looking Glass               |\n",
      "+----------------------------------------------+"
     ]
    }
   ],
   "source": []
  },
  {
   "cell_type": "markdown",
   "id": "c34feacd-3185-4dc1-b11e-f74c0545adcb",
   "metadata": {
    "tags": []
   },
   "source": [
    "## 8) Among the TV series featuring David Tennant, who is known for his role in Doctor Who, which rank in the top 5 for viewer engagement? Does Doctor Who make it into the highest-ranked series?"
   ]
  },
  {
   "cell_type": "code",
   "execution_count": 53,
   "id": "d0519d9b",
   "metadata": {
    "execution": {
     "iopub.execute_input": "2024-12-04T04:39:49.208594Z",
     "iopub.status.busy": "2024-12-04T04:39:49.208268Z",
     "iopub.status.idle": "2024-12-04T04:42:55.155286Z",
     "shell.execute_reply": "2024-12-04T04:42:55.154359Z",
     "shell.execute_reply.started": "2024-12-04T04:39:49.208566Z"
    },
    "tags": []
   },
   "outputs": [
    {
     "data": {
      "application/vnd.jupyter.widget-view+json": {
       "model_id": "9abcfee087ab4b7785483fb16977b442",
       "version_major": 2,
       "version_minor": 0
      },
      "text/plain": [
       "VBox()"
      ]
     },
     "metadata": {},
     "output_type": "display_data"
    },
    {
     "data": {
      "application/vnd.jupyter.widget-view+json": {
       "model_id": "",
       "version_major": 2,
       "version_minor": 0
      },
      "text/plain": [
       "FloatProgress(value=0.0, bar_style='info', description='Progress:', layout=Layout(height='25px', width='50%'),…"
      ]
     },
     "metadata": {},
     "output_type": "display_data"
    },
    {
     "name": "stdout",
     "output_type": "stream",
     "text": [
      "+-------------+---------------+\n",
      "|Tv Series    |Number of Votes|\n",
      "+-------------+---------------+\n",
      "|Doctor Who   |245190         |\n",
      "|Jessica Jones|225869         |\n",
      "|Broadchurch  |126132         |\n",
      "|Good Omens   |111450         |\n",
      "|Ahsoka       |107410         |\n",
      "+-------------+---------------+\n",
      "\n",
      "Doctor Who is in the top 5 Tv series for viewer engagement with 245190 votes."
     ]
    }
   ],
   "source": [
    "# get the nconst of David Tennant, who features Doctor Who\n",
    "dt_nconst=name.join(principles, on='nconst', how='inner').join(titles, on='tconst', how='inner')\\\n",
    "        .select(\"nconst\")\\\n",
    "        .filter((name.primaryName == \"David Tennant\")\n",
    "                &(principles.category == \"actor\")\n",
    "                &(titles.primaryTitle == \"Doctor Who\"))\\\n",
    "        .distinct()\\\n",
    "        .collect()[0][0]\n",
    "\n",
    "# numVotes is string for now, change it to int\n",
    "ratings=ratings.withColumn(\"numVotes\", col(\"numVotes\").cast(\"int\"))\n",
    "\n",
    "# get the top 5 numVotes using dt_nconst\n",
    "dt_tv=principles.join(titles, on='tconst', how='inner').join(ratings, on='tconst', how='inner')\\\n",
    "    .select(\"primaryTitle\", \"numVotes\")\\\n",
    "    .withColumnRenamed(\"primaryTitle\", \"Tv Series\")\\\n",
    "    .withColumnRenamed(\"numVotes\", \"Number of Votes\")\\\n",
    "    .filter((principles.nconst == dt_nconst)\n",
    "            &(titles.titleType == \"tvSeries\")\n",
    "            &(principles.category == \"actor\"))\\\n",
    "    .sort(col(\"numVotes\").desc())\\\n",
    "    .limit(5)\n",
    "\n",
    "dt_tv.show(truncate=False)\n",
    "\n",
    "print (\"Doctor Who is in the top 5 Tv series for viewer engagement with\", dt_tv.collect()[0][1], \"votes.\")"
   ]
  },
  {
   "cell_type": "code",
   "execution_count": 91,
   "id": "3cea647c-9abd-4f11-8f38-4ea675174643",
   "metadata": {
    "execution": {
     "iopub.execute_input": "2024-11-06T21:02:44.994874Z",
     "iopub.status.busy": "2024-11-06T21:02:44.994550Z",
     "iopub.status.idle": "2024-11-06T21:07:07.248056Z",
     "shell.execute_reply": "2024-11-06T21:07:07.247080Z",
     "shell.execute_reply.started": "2024-11-06T21:02:44.994837Z"
    }
   },
   "outputs": [
    {
     "data": {
      "application/vnd.jupyter.widget-view+json": {
       "model_id": "63fda3b3155241669aeff6813a0c5bdf",
       "version_major": 2,
       "version_minor": 0
      },
      "text/plain": [
       "VBox()"
      ]
     },
     "metadata": {},
     "output_type": "display_data"
    },
    {
     "data": {
      "application/vnd.jupyter.widget-view+json": {
       "model_id": "",
       "version_major": 2,
       "version_minor": 0
      },
      "text/plain": [
       "FloatProgress(value=0.0, bar_style='info', description='Progress:', layout=Layout(height='25px', width='50%'),…"
      ]
     },
     "metadata": {},
     "output_type": "display_data"
    },
    {
     "name": "stdout",
     "output_type": "stream",
     "text": [
      "+-------------+---------------+\n",
      "|Tv Series    |Number of Votes|\n",
      "+-------------+---------------+\n",
      "|Doctor Who   |245190         |\n",
      "|Jessica Jones|225869         |\n",
      "|Broadchurch  |126132         |\n",
      "|Good Omens   |111450         |\n",
      "|Ahsoka       |107410         |\n",
      "+-------------+---------------+\n",
      "\n",
      "Doctor Who is in the top 5 TV series for viewer engagement with 245190 votes."
     ]
    }
   ],
   "source": []
  },
  {
   "cell_type": "markdown",
   "id": "580300ca-8b5d-4edc-a7ef-9aec71e696b9",
   "metadata": {
    "tags": []
   },
   "source": [
    "## 9) What are the highest and lowest-rated movies in the Harry Potter franchise featuring Daniel Radcliffe, and what are their ratings?\n",
    "\n",
    "First, get the ratings for each movie in the franchise, and then find the highest and lowest-rated movies."
   ]
  },
  {
   "cell_type": "code",
   "execution_count": 56,
   "id": "63d950a5",
   "metadata": {
    "execution": {
     "iopub.execute_input": "2024-12-04T04:54:01.639192Z",
     "iopub.status.busy": "2024-12-04T04:54:01.638856Z",
     "iopub.status.idle": "2024-12-04T04:57:47.827352Z",
     "shell.execute_reply": "2024-12-04T04:57:47.826631Z",
     "shell.execute_reply.started": "2024-12-04T04:54:01.639163Z"
    },
    "tags": []
   },
   "outputs": [
    {
     "data": {
      "application/vnd.jupyter.widget-view+json": {
       "model_id": "164999d8c8d3492094288408e58096ae",
       "version_major": 2,
       "version_minor": 0
      },
      "text/plain": [
       "VBox()"
      ]
     },
     "metadata": {},
     "output_type": "display_data"
    },
    {
     "data": {
      "application/vnd.jupyter.widget-view+json": {
       "model_id": "",
       "version_major": 2,
       "version_minor": 0
      },
      "text/plain": [
       "FloatProgress(value=0.0, bar_style='info', description='Progress:', layout=Layout(height='25px', width='50%'),…"
      ]
     },
     "metadata": {},
     "output_type": "display_data"
    },
    {
     "name": "stdout",
     "output_type": "stream",
     "text": [
      "+--------------------------------------------+-------------+\n",
      "|primaryTitle                                |averageRating|\n",
      "+--------------------------------------------+-------------+\n",
      "|Harry Potter and the Half-Blood Prince      |7.6          |\n",
      "|Harry Potter and the Prisoner of Azkaban    |7.9          |\n",
      "|Harry Potter and the Deathly Hallows: Part 2|8.1          |\n",
      "|Harry Potter and the Deathly Hallows: Part 1|7.7          |\n",
      "|Harry Potter and the Chamber of Secrets     |7.4          |\n",
      "|Harry Potter and the Goblet of Fire         |7.7          |\n",
      "|Harry Potter and the Sorcerer's Stone       |7.6          |\n",
      "|Harry Potter and the Order of the Phoenix   |7.5          |\n",
      "+--------------------------------------------+-------------+\n",
      "\n",
      "Highest Rating in the Harry Potter Franchise: Harry Potter and the Deathly Hallows: Part 2 with a rating of 8.1\n",
      "Lowest Rating in the Harry Potter Franchise: Harry Potter and the Chamber of Secrets with a rating of 7.4"
     ]
    }
   ],
   "source": [
    "# get all movies and ratings\n",
    "hp_movies=name.join(principles, on='nconst', how='inner')\\\n",
    "    .join(titles, on='tconst', how='inner')\\\n",
    "    .join(ratings, on='tconst', how='inner')\\\n",
    "    .select(\"primaryTitle\", \"averageRating\")\\\n",
    "    .filter((name.primaryName == \"Daniel Radcliffe\")\n",
    "            &(titles.primaryTitle.contains( \"Harry Potter\"))\n",
    "            &(principles.category == \"actor\")\n",
    "            &(titles.titleType == \"movie\"))\n",
    "hp_movies.show(truncate=False)\n",
    "\n",
    "# get the highest rating\n",
    "highest=hp_movies.sort(col(\"averageRating\").desc()).limit(1).collect()\n",
    "print(\"Highest Rating in the Harry Potter Franchise:\", highest[0][0], \"with a rating of\", highest[0][1])\n",
    "\n",
    "# get the lowest rating\n",
    "lowest=hp_movies.sort(col(\"averageRating\").asc()).limit(1).collect()\n",
    "print(\"Lowest Rating in the Harry Potter Franchise:\", lowest[0][0], \"with a rating of\", lowest[0][1])"
   ]
  },
  {
   "cell_type": "code",
   "execution_count": 93,
   "id": "abab66bb-8cf6-4dc7-bc8d-7a771845aa7f",
   "metadata": {
    "execution": {
     "iopub.execute_input": "2024-11-06T21:11:50.682318Z",
     "iopub.status.busy": "2024-11-06T21:11:50.682006Z",
     "iopub.status.idle": "2024-11-06T21:15:16.753867Z",
     "shell.execute_reply": "2024-11-06T21:15:16.752853Z",
     "shell.execute_reply.started": "2024-11-06T21:11:50.682292Z"
    },
    "tags": []
   },
   "outputs": [
    {
     "data": {
      "application/vnd.jupyter.widget-view+json": {
       "model_id": "d9606e4f8469431d826143ab3fe59857",
       "version_major": 2,
       "version_minor": 0
      },
      "text/plain": [
       "VBox()"
      ]
     },
     "metadata": {},
     "output_type": "display_data"
    },
    {
     "data": {
      "application/vnd.jupyter.widget-view+json": {
       "model_id": "",
       "version_major": 2,
       "version_minor": 0
      },
      "text/plain": [
       "FloatProgress(value=0.0, bar_style='info', description='Progress:', layout=Layout(height='25px', width='50%'),…"
      ]
     },
     "metadata": {},
     "output_type": "display_data"
    },
    {
     "name": "stdout",
     "output_type": "stream",
     "text": [
      "+--------------------------------------------+-------------+\n",
      "|primaryTitle                                |averageRating|\n",
      "+--------------------------------------------+-------------+\n",
      "|Harry Potter and the Half-Blood Prince      |7.6          |\n",
      "|Harry Potter and the Prisoner of Azkaban    |7.9          |\n",
      "|Harry Potter and the Deathly Hallows: Part 2|8.1          |\n",
      "|Harry Potter and the Deathly Hallows: Part 1|7.7          |\n",
      "|Harry Potter and the Chamber of Secrets     |7.4          |\n",
      "|Harry Potter and the Goblet of Fire         |7.7          |\n",
      "|Harry Potter and the Sorcerer's Stone       |7.6          |\n",
      "|Harry Potter and the Order of the Phoenix   |7.5          |\n",
      "+--------------------------------------------+-------------+\n",
      "\n",
      "Highest Rating in the Harry Potter Franchise: Harry Potter and the Deathly Hallows: Part 2  with a rating of 8.1\n",
      "Lowest Rating in the Harry Potter Franchise:  Harry Potter and the Chamber of Secrets with a rating of 7.4"
     ]
    }
   ],
   "source": []
  }
 ],
 "metadata": {
  "kernelspec": {
   "display_name": "PySpark",
   "language": "python",
   "name": "pysparkkernel"
  },
  "language_info": {
   "codemirror_mode": {
    "name": "python",
    "version": 3
   },
   "file_extension": ".py",
   "mimetype": "text/x-python",
   "name": "pyspark",
   "pygments_lexer": "python3"
  }
 },
 "nbformat": 4,
 "nbformat_minor": 5
}
